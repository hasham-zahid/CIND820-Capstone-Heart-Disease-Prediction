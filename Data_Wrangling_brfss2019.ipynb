{
 "cells": [
  {
   "cell_type": "code",
   "execution_count": null,
   "metadata": {},
   "outputs": [],
   "source": [
    "import numpy as np\n",
    "import pandas as pd\n",
    "import matplotlib.pyplot as plt\n",
    "import seaborn as sns"
   ]
  },
  {
   "cell_type": "markdown",
   "metadata": {},
   "source": [
    "### 1: The Data and Features"
   ]
  },
  {
   "cell_type": "markdown",
   "metadata": {},
   "source": [
    "Data Source and Feature Codebook: https://www.cdc.gov/brfss/annual_data/annual_2019.html\n",
    "\n",
    "According to the CDC, important risk factors for heart disease are high blood pressure, high cholesterol, diabetes, smoking, obesity, unhealthy diet, and physical inactivity. From the 343 variables in the dataset, the health indicators in this dataset were chosen from this information. \n",
    "\n",
    "Source: https://www.cdc.gov/chronicdisease/resources/publications/factsheets/heart-disease-stroke.htm#:~:text=Leading%20risk%20factors%20for%20heart,unhealthy%20diet%2C%20and%20physical%20inactivity.\n",
    "\n",
    "TARGET VARIABLE:\n",
    "heart disease - _MICHD\n",
    "\n",
    "DEMOGRAPHICS:\n",
    "age - _AGEG5YR,\n",
    "sex - SEXVAR,\n",
    "education - EDUCA,\n",
    "income - INCOME2,\n",
    "\n",
    "INDICATORS:\n",
    "cholestrol (high) - TOLDHI2,\n",
    "BP (high) (hypertension) - _RFHYPE5,\n",
    "obesity (BMI) - _BMI5,\n",
    "alcohol consumption (heavy) - _RFDRHV7,\n",
    "smoking (current) - _SMOKER3,\n",
    "stroke - CVDSTRK3,\n",
    "diabetes - DIABETE4,\n",
    "diet fruit - _FRTLT1A,\n",
    "diet vegetables -  _VEGLT1A,\n",
    "physical activity - _TOTINDA,\n",
    "\n",
    "HEALTH STATUS:\n",
    "general health - GENHLTH,\n",
    "mental health - MENTHLTH,\n",
    "physical health - PHYSHLTH"
   ]
  },
  {
   "cell_type": "code",
   "execution_count": null,
   "metadata": {},
   "outputs": [],
   "source": [
    "brfss_raw = pd.read_csv('brfss2019.csv')"
   ]
  },
  {
   "cell_type": "code",
   "execution_count": 38,
   "metadata": {},
   "outputs": [
    {
     "data": {
      "text/html": [
       "<div>\n",
       "<style scoped>\n",
       "    .dataframe tbody tr th:only-of-type {\n",
       "        vertical-align: middle;\n",
       "    }\n",
       "\n",
       "    .dataframe tbody tr th {\n",
       "        vertical-align: top;\n",
       "    }\n",
       "\n",
       "    .dataframe thead th {\n",
       "        text-align: right;\n",
       "    }\n",
       "</style>\n",
       "<table border=\"1\" class=\"dataframe\">\n",
       "  <thead>\n",
       "    <tr style=\"text-align: right;\">\n",
       "      <th></th>\n",
       "      <th>Unnamed: 0</th>\n",
       "      <th>_STATE</th>\n",
       "      <th>FMONTH</th>\n",
       "      <th>IDATE</th>\n",
       "      <th>IMONTH</th>\n",
       "      <th>IDAY</th>\n",
       "      <th>IYEAR</th>\n",
       "      <th>DISPCODE</th>\n",
       "      <th>SEQNO</th>\n",
       "      <th>_PSU</th>\n",
       "      <th>...</th>\n",
       "      <th>_VEGESU1</th>\n",
       "      <th>_FRTLT1A</th>\n",
       "      <th>_VEGLT1A</th>\n",
       "      <th>_FRT16A</th>\n",
       "      <th>_VEG23A</th>\n",
       "      <th>_FRUITE1</th>\n",
       "      <th>_VEGETE1</th>\n",
       "      <th>_FLSHOT7</th>\n",
       "      <th>_PNEUMO3</th>\n",
       "      <th>_AIDTST4</th>\n",
       "    </tr>\n",
       "  </thead>\n",
       "  <tbody>\n",
       "    <tr>\n",
       "      <th>0</th>\n",
       "      <td>1</td>\n",
       "      <td>1</td>\n",
       "      <td>1</td>\n",
       "      <td>1182019</td>\n",
       "      <td>1</td>\n",
       "      <td>18</td>\n",
       "      <td>2019</td>\n",
       "      <td>1100</td>\n",
       "      <td>2019000001</td>\n",
       "      <td>2019000001</td>\n",
       "      <td>...</td>\n",
       "      <td>114.0</td>\n",
       "      <td>1</td>\n",
       "      <td>1</td>\n",
       "      <td>1</td>\n",
       "      <td>1</td>\n",
       "      <td>0</td>\n",
       "      <td>0</td>\n",
       "      <td>2.0</td>\n",
       "      <td>1.0</td>\n",
       "      <td>2.0</td>\n",
       "    </tr>\n",
       "    <tr>\n",
       "      <th>1</th>\n",
       "      <td>2</td>\n",
       "      <td>1</td>\n",
       "      <td>1</td>\n",
       "      <td>1132019</td>\n",
       "      <td>1</td>\n",
       "      <td>13</td>\n",
       "      <td>2019</td>\n",
       "      <td>1100</td>\n",
       "      <td>2019000002</td>\n",
       "      <td>2019000002</td>\n",
       "      <td>...</td>\n",
       "      <td>121.0</td>\n",
       "      <td>1</td>\n",
       "      <td>1</td>\n",
       "      <td>1</td>\n",
       "      <td>1</td>\n",
       "      <td>0</td>\n",
       "      <td>0</td>\n",
       "      <td>1.0</td>\n",
       "      <td>1.0</td>\n",
       "      <td>2.0</td>\n",
       "    </tr>\n",
       "    <tr>\n",
       "      <th>2</th>\n",
       "      <td>3</td>\n",
       "      <td>1</td>\n",
       "      <td>1</td>\n",
       "      <td>1182019</td>\n",
       "      <td>1</td>\n",
       "      <td>18</td>\n",
       "      <td>2019</td>\n",
       "      <td>1100</td>\n",
       "      <td>2019000003</td>\n",
       "      <td>2019000003</td>\n",
       "      <td>...</td>\n",
       "      <td>164.0</td>\n",
       "      <td>1</td>\n",
       "      <td>1</td>\n",
       "      <td>1</td>\n",
       "      <td>1</td>\n",
       "      <td>0</td>\n",
       "      <td>0</td>\n",
       "      <td>1.0</td>\n",
       "      <td>2.0</td>\n",
       "      <td>2.0</td>\n",
       "    </tr>\n",
       "    <tr>\n",
       "      <th>3</th>\n",
       "      <td>4</td>\n",
       "      <td>1</td>\n",
       "      <td>1</td>\n",
       "      <td>1182019</td>\n",
       "      <td>1</td>\n",
       "      <td>18</td>\n",
       "      <td>2019</td>\n",
       "      <td>1200</td>\n",
       "      <td>2019000004</td>\n",
       "      <td>2019000004</td>\n",
       "      <td>...</td>\n",
       "      <td>NaN</td>\n",
       "      <td>9</td>\n",
       "      <td>9</td>\n",
       "      <td>1</td>\n",
       "      <td>1</td>\n",
       "      <td>1</td>\n",
       "      <td>1</td>\n",
       "      <td>9.0</td>\n",
       "      <td>9.0</td>\n",
       "      <td>NaN</td>\n",
       "    </tr>\n",
       "    <tr>\n",
       "      <th>4</th>\n",
       "      <td>5</td>\n",
       "      <td>1</td>\n",
       "      <td>1</td>\n",
       "      <td>1042019</td>\n",
       "      <td>1</td>\n",
       "      <td>4</td>\n",
       "      <td>2019</td>\n",
       "      <td>1100</td>\n",
       "      <td>2019000005</td>\n",
       "      <td>2019000005</td>\n",
       "      <td>...</td>\n",
       "      <td>178.0</td>\n",
       "      <td>1</td>\n",
       "      <td>1</td>\n",
       "      <td>1</td>\n",
       "      <td>1</td>\n",
       "      <td>0</td>\n",
       "      <td>0</td>\n",
       "      <td>2.0</td>\n",
       "      <td>1.0</td>\n",
       "      <td>2.0</td>\n",
       "    </tr>\n",
       "  </tbody>\n",
       "</table>\n",
       "<p>5 rows × 343 columns</p>\n",
       "</div>"
      ],
      "text/plain": [
       "   Unnamed: 0  _STATE  FMONTH    IDATE  IMONTH  IDAY  IYEAR  DISPCODE   \n",
       "0           1       1       1  1182019       1    18   2019      1100  \\\n",
       "1           2       1       1  1132019       1    13   2019      1100   \n",
       "2           3       1       1  1182019       1    18   2019      1100   \n",
       "3           4       1       1  1182019       1    18   2019      1200   \n",
       "4           5       1       1  1042019       1     4   2019      1100   \n",
       "\n",
       "        SEQNO        _PSU  ...  _VEGESU1  _FRTLT1A  _VEGLT1A  _FRT16A   \n",
       "0  2019000001  2019000001  ...     114.0         1         1        1  \\\n",
       "1  2019000002  2019000002  ...     121.0         1         1        1   \n",
       "2  2019000003  2019000003  ...     164.0         1         1        1   \n",
       "3  2019000004  2019000004  ...       NaN         9         9        1   \n",
       "4  2019000005  2019000005  ...     178.0         1         1        1   \n",
       "\n",
       "   _VEG23A  _FRUITE1  _VEGETE1  _FLSHOT7  _PNEUMO3  _AIDTST4  \n",
       "0        1         0         0       2.0       1.0       2.0  \n",
       "1        1         0         0       1.0       1.0       2.0  \n",
       "2        1         0         0       1.0       2.0       2.0  \n",
       "3        1         1         1       9.0       9.0       NaN  \n",
       "4        1         0         0       2.0       1.0       2.0  \n",
       "\n",
       "[5 rows x 343 columns]"
      ]
     },
     "execution_count": 38,
     "metadata": {},
     "output_type": "execute_result"
    }
   ],
   "source": [
    "brfss_raw.head()"
   ]
  },
  {
   "cell_type": "code",
   "execution_count": 39,
   "metadata": {},
   "outputs": [
    {
     "data": {
      "text/plain": [
       "(418268, 343)"
      ]
     },
     "execution_count": 39,
     "metadata": {},
     "output_type": "execute_result"
    }
   ],
   "source": [
    "brfss_raw.shape"
   ]
  },
  {
   "cell_type": "code",
   "execution_count": 40,
   "metadata": {},
   "outputs": [],
   "source": [
    "brfss_selected = brfss_raw[['_MICHD',\n",
    "                       '_AGEG5YR', \n",
    "                       'SEXVAR', \n",
    "                       'EDUCA',\n",
    "                       'INCOME2',\n",
    "                       'TOLDHI2',\n",
    "                       '_RFHYPE5',\n",
    "                       '_BMI5',\n",
    "                       '_RFDRHV7', \n",
    "                       '_RFSMOK3', \n",
    "                       'CVDSTRK3', \n",
    "                       'DIABETE4', \n",
    "                       '_TOTINDA', \n",
    "                       '_VEGLT1A',\n",
    "                       '_FRTLT1A', \n",
    "                       'GENHLTH', \n",
    "                       'MENTHLTH', \n",
    "                       'PHYSHLTH']]"
   ]
  },
  {
   "cell_type": "code",
   "execution_count": 41,
   "metadata": {},
   "outputs": [
    {
     "data": {
      "text/html": [
       "<div>\n",
       "<style scoped>\n",
       "    .dataframe tbody tr th:only-of-type {\n",
       "        vertical-align: middle;\n",
       "    }\n",
       "\n",
       "    .dataframe tbody tr th {\n",
       "        vertical-align: top;\n",
       "    }\n",
       "\n",
       "    .dataframe thead th {\n",
       "        text-align: right;\n",
       "    }\n",
       "</style>\n",
       "<table border=\"1\" class=\"dataframe\">\n",
       "  <thead>\n",
       "    <tr style=\"text-align: right;\">\n",
       "      <th></th>\n",
       "      <th>_MICHD</th>\n",
       "      <th>_AGEG5YR</th>\n",
       "      <th>SEXVAR</th>\n",
       "      <th>EDUCA</th>\n",
       "      <th>INCOME2</th>\n",
       "      <th>TOLDHI2</th>\n",
       "      <th>_RFHYPE5</th>\n",
       "      <th>_BMI5</th>\n",
       "      <th>_RFDRHV7</th>\n",
       "      <th>_RFSMOK3</th>\n",
       "      <th>CVDSTRK3</th>\n",
       "      <th>DIABETE4</th>\n",
       "      <th>_TOTINDA</th>\n",
       "      <th>_VEGLT1A</th>\n",
       "      <th>_FRTLT1A</th>\n",
       "      <th>GENHLTH</th>\n",
       "      <th>MENTHLTH</th>\n",
       "      <th>PHYSHLTH</th>\n",
       "    </tr>\n",
       "  </thead>\n",
       "  <tbody>\n",
       "    <tr>\n",
       "      <th>0</th>\n",
       "      <td>2.0</td>\n",
       "      <td>13</td>\n",
       "      <td>2</td>\n",
       "      <td>3.0</td>\n",
       "      <td>3.0</td>\n",
       "      <td>1.0</td>\n",
       "      <td>2</td>\n",
       "      <td>2817.0</td>\n",
       "      <td>1</td>\n",
       "      <td>1</td>\n",
       "      <td>2.0</td>\n",
       "      <td>3.0</td>\n",
       "      <td>2</td>\n",
       "      <td>1</td>\n",
       "      <td>1</td>\n",
       "      <td>3.0</td>\n",
       "      <td>88.0</td>\n",
       "      <td>15.0</td>\n",
       "    </tr>\n",
       "    <tr>\n",
       "      <th>1</th>\n",
       "      <td>2.0</td>\n",
       "      <td>11</td>\n",
       "      <td>2</td>\n",
       "      <td>5.0</td>\n",
       "      <td>5.0</td>\n",
       "      <td>2.0</td>\n",
       "      <td>1</td>\n",
       "      <td>1854.0</td>\n",
       "      <td>1</td>\n",
       "      <td>1</td>\n",
       "      <td>2.0</td>\n",
       "      <td>3.0</td>\n",
       "      <td>1</td>\n",
       "      <td>1</td>\n",
       "      <td>1</td>\n",
       "      <td>4.0</td>\n",
       "      <td>88.0</td>\n",
       "      <td>10.0</td>\n",
       "    </tr>\n",
       "    <tr>\n",
       "      <th>2</th>\n",
       "      <td>2.0</td>\n",
       "      <td>10</td>\n",
       "      <td>2</td>\n",
       "      <td>6.0</td>\n",
       "      <td>7.0</td>\n",
       "      <td>2.0</td>\n",
       "      <td>2</td>\n",
       "      <td>3162.0</td>\n",
       "      <td>1</td>\n",
       "      <td>1</td>\n",
       "      <td>2.0</td>\n",
       "      <td>1.0</td>\n",
       "      <td>1</td>\n",
       "      <td>1</td>\n",
       "      <td>1</td>\n",
       "      <td>3.0</td>\n",
       "      <td>30.0</td>\n",
       "      <td>88.0</td>\n",
       "    </tr>\n",
       "    <tr>\n",
       "      <th>3</th>\n",
       "      <td>2.0</td>\n",
       "      <td>13</td>\n",
       "      <td>2</td>\n",
       "      <td>5.0</td>\n",
       "      <td>6.0</td>\n",
       "      <td>2.0</td>\n",
       "      <td>2</td>\n",
       "      <td>2030.0</td>\n",
       "      <td>9</td>\n",
       "      <td>9</td>\n",
       "      <td>2.0</td>\n",
       "      <td>3.0</td>\n",
       "      <td>9</td>\n",
       "      <td>9</td>\n",
       "      <td>9</td>\n",
       "      <td>4.0</td>\n",
       "      <td>88.0</td>\n",
       "      <td>30.0</td>\n",
       "    </tr>\n",
       "    <tr>\n",
       "      <th>4</th>\n",
       "      <td>2.0</td>\n",
       "      <td>13</td>\n",
       "      <td>2</td>\n",
       "      <td>5.0</td>\n",
       "      <td>99.0</td>\n",
       "      <td>1.0</td>\n",
       "      <td>1</td>\n",
       "      <td>2148.0</td>\n",
       "      <td>1</td>\n",
       "      <td>1</td>\n",
       "      <td>2.0</td>\n",
       "      <td>3.0</td>\n",
       "      <td>2</td>\n",
       "      <td>1</td>\n",
       "      <td>1</td>\n",
       "      <td>2.0</td>\n",
       "      <td>88.0</td>\n",
       "      <td>88.0</td>\n",
       "    </tr>\n",
       "  </tbody>\n",
       "</table>\n",
       "</div>"
      ],
      "text/plain": [
       "   _MICHD  _AGEG5YR  SEXVAR  EDUCA  INCOME2  TOLDHI2  _RFHYPE5   _BMI5   \n",
       "0     2.0        13       2    3.0      3.0      1.0         2  2817.0  \\\n",
       "1     2.0        11       2    5.0      5.0      2.0         1  1854.0   \n",
       "2     2.0        10       2    6.0      7.0      2.0         2  3162.0   \n",
       "3     2.0        13       2    5.0      6.0      2.0         2  2030.0   \n",
       "4     2.0        13       2    5.0     99.0      1.0         1  2148.0   \n",
       "\n",
       "   _RFDRHV7  _RFSMOK3  CVDSTRK3  DIABETE4  _TOTINDA  _VEGLT1A  _FRTLT1A   \n",
       "0         1         1       2.0       3.0         2         1         1  \\\n",
       "1         1         1       2.0       3.0         1         1         1   \n",
       "2         1         1       2.0       1.0         1         1         1   \n",
       "3         9         9       2.0       3.0         9         9         9   \n",
       "4         1         1       2.0       3.0         2         1         1   \n",
       "\n",
       "   GENHLTH  MENTHLTH  PHYSHLTH  \n",
       "0      3.0      88.0      15.0  \n",
       "1      4.0      88.0      10.0  \n",
       "2      3.0      30.0      88.0  \n",
       "3      4.0      88.0      30.0  \n",
       "4      2.0      88.0      88.0  "
      ]
     },
     "execution_count": 41,
     "metadata": {},
     "output_type": "execute_result"
    }
   ],
   "source": [
    "brfss_selected.head()"
   ]
  },
  {
   "cell_type": "code",
   "execution_count": 42,
   "metadata": {},
   "outputs": [
    {
     "data": {
      "text/plain": [
       "(418268, 18)"
      ]
     },
     "execution_count": 42,
     "metadata": {},
     "output_type": "execute_result"
    }
   ],
   "source": [
    "brfss_selected.shape"
   ]
  },
  {
   "cell_type": "code",
   "execution_count": 43,
   "metadata": {},
   "outputs": [
    {
     "data": {
      "text/plain": [
       "_MICHD      float64\n",
       "_AGEG5YR      int64\n",
       "SEXVAR        int64\n",
       "EDUCA       float64\n",
       "INCOME2     float64\n",
       "TOLDHI2     float64\n",
       "_RFHYPE5      int64\n",
       "_BMI5       float64\n",
       "_RFDRHV7      int64\n",
       "_RFSMOK3      int64\n",
       "CVDSTRK3    float64\n",
       "DIABETE4    float64\n",
       "_TOTINDA      int64\n",
       "_VEGLT1A      int64\n",
       "_FRTLT1A      int64\n",
       "GENHLTH     float64\n",
       "MENTHLTH    float64\n",
       "PHYSHLTH    float64\n",
       "dtype: object"
      ]
     },
     "execution_count": 43,
     "metadata": {},
     "output_type": "execute_result"
    }
   ],
   "source": [
    "brfss_selected.dtypes"
   ]
  },
  {
   "cell_type": "markdown",
   "metadata": {},
   "source": [
    "2: Missing Values"
   ]
  },
  {
   "cell_type": "code",
   "execution_count": 44,
   "metadata": {},
   "outputs": [
    {
     "data": {
      "text/plain": [
       "_MICHD       4325\n",
       "_AGEG5YR        0\n",
       "SEXVAR          0\n",
       "EDUCA          26\n",
       "INCOME2      6881\n",
       "TOLDHI2     24443\n",
       "_RFHYPE5        0\n",
       "_BMI5       36203\n",
       "_RFDRHV7        0\n",
       "_RFSMOK3        0\n",
       "CVDSTRK3       11\n",
       "DIABETE4        9\n",
       "_TOTINDA        0\n",
       "_VEGLT1A        0\n",
       "_FRTLT1A        0\n",
       "GENHLTH        26\n",
       "MENTHLTH       19\n",
       "PHYSHLTH       32\n",
       "dtype: int64"
      ]
     },
     "execution_count": 44,
     "metadata": {},
     "output_type": "execute_result"
    }
   ],
   "source": [
    "brfss_selected.isnull().sum()"
   ]
  },
  {
   "cell_type": "code",
   "execution_count": 45,
   "metadata": {},
   "outputs": [],
   "source": [
    "#drop all missing rows\n",
    "#too many rows with missing values for heart attack, chol, income, and BMI\n",
    "#large dataset,chose not to interpolate over the remaining 30-40 missing rows\n",
    "brfss_selected = brfss_selected.dropna()"
   ]
  },
  {
   "cell_type": "code",
   "execution_count": 46,
   "metadata": {},
   "outputs": [
    {
     "data": {
      "text/plain": [
       "(356710, 18)"
      ]
     },
     "execution_count": 46,
     "metadata": {},
     "output_type": "execute_result"
    }
   ],
   "source": [
    "brfss_selected.shape"
   ]
  },
  {
   "cell_type": "code",
   "execution_count": 47,
   "metadata": {},
   "outputs": [
    {
     "data": {
      "text/plain": [
       "_MICHD      0\n",
       "_AGEG5YR    0\n",
       "SEXVAR      0\n",
       "EDUCA       0\n",
       "INCOME2     0\n",
       "TOLDHI2     0\n",
       "_RFHYPE5    0\n",
       "_BMI5       0\n",
       "_RFDRHV7    0\n",
       "_RFSMOK3    0\n",
       "CVDSTRK3    0\n",
       "DIABETE4    0\n",
       "_TOTINDA    0\n",
       "_VEGLT1A    0\n",
       "_FRTLT1A    0\n",
       "GENHLTH     0\n",
       "MENTHLTH    0\n",
       "PHYSHLTH    0\n",
       "dtype: int64"
      ]
     },
     "execution_count": 47,
     "metadata": {},
     "output_type": "execute_result"
    }
   ],
   "source": [
    "brfss_selected.isnull().sum()"
   ]
  },
  {
   "cell_type": "markdown",
   "metadata": {},
   "source": [
    "3: Renaming the Variables"
   ]
  },
  {
   "cell_type": "code",
   "execution_count": 48,
   "metadata": {},
   "outputs": [],
   "source": [
    "brfss = brfss_selected.rename(columns={'_MICHD': 'HeartDisease',\n",
    "                                       '_AGEG5YR': 'Age', \n",
    "                                       'SEXVAR': 'Sex', \n",
    "                                       'EDUCA': 'Education', \n",
    "                                       'INCOME2': 'Income',\n",
    "                                       'TOLDHI2': 'HighChol',\n",
    "                                       '_RFHYPE5': 'HighBP',\n",
    "                                       '_BMI5': 'BMI', \n",
    "                                       '_RFDRHV7': 'HeavyAlcoholConsump', \n",
    "                                       '_RFSMOK3': 'Smoker', \n",
    "                                       'CVDSTRK3': 'Stroke', \n",
    "                                       'DIABETE4': 'Diabetes', \n",
    "                                       '_TOTINDA': 'PhysicalActivity', \n",
    "                                       '_VEGLT1A': 'Vegetables',\n",
    "                                       '_FRTLT1A': 'Fruits', \n",
    "                                       'GENHLTH': 'GenHealth', \n",
    "                                       'MENTHLTH': 'MenHealth', \n",
    "                                       'PHYSHLTH': 'PhysHealth'})"
   ]
  },
  {
   "cell_type": "code",
   "execution_count": 49,
   "metadata": {},
   "outputs": [
    {
     "data": {
      "text/html": [
       "<div>\n",
       "<style scoped>\n",
       "    .dataframe tbody tr th:only-of-type {\n",
       "        vertical-align: middle;\n",
       "    }\n",
       "\n",
       "    .dataframe tbody tr th {\n",
       "        vertical-align: top;\n",
       "    }\n",
       "\n",
       "    .dataframe thead th {\n",
       "        text-align: right;\n",
       "    }\n",
       "</style>\n",
       "<table border=\"1\" class=\"dataframe\">\n",
       "  <thead>\n",
       "    <tr style=\"text-align: right;\">\n",
       "      <th></th>\n",
       "      <th>HeartDisease</th>\n",
       "      <th>Age</th>\n",
       "      <th>Sex</th>\n",
       "      <th>Education</th>\n",
       "      <th>Income</th>\n",
       "      <th>HighChol</th>\n",
       "      <th>HighBP</th>\n",
       "      <th>BMI</th>\n",
       "      <th>HeavyAlcoholConsump</th>\n",
       "      <th>Smoker</th>\n",
       "      <th>Stroke</th>\n",
       "      <th>Diabetes</th>\n",
       "      <th>PhysicalActivity</th>\n",
       "      <th>Vegetables</th>\n",
       "      <th>Fruits</th>\n",
       "      <th>GenHealth</th>\n",
       "      <th>MenHealth</th>\n",
       "      <th>PhysHealth</th>\n",
       "    </tr>\n",
       "  </thead>\n",
       "  <tbody>\n",
       "    <tr>\n",
       "      <th>0</th>\n",
       "      <td>2.0</td>\n",
       "      <td>13</td>\n",
       "      <td>2</td>\n",
       "      <td>3.0</td>\n",
       "      <td>3.0</td>\n",
       "      <td>1.0</td>\n",
       "      <td>2</td>\n",
       "      <td>2817.0</td>\n",
       "      <td>1</td>\n",
       "      <td>1</td>\n",
       "      <td>2.0</td>\n",
       "      <td>3.0</td>\n",
       "      <td>2</td>\n",
       "      <td>1</td>\n",
       "      <td>1</td>\n",
       "      <td>3.0</td>\n",
       "      <td>88.0</td>\n",
       "      <td>15.0</td>\n",
       "    </tr>\n",
       "    <tr>\n",
       "      <th>1</th>\n",
       "      <td>2.0</td>\n",
       "      <td>11</td>\n",
       "      <td>2</td>\n",
       "      <td>5.0</td>\n",
       "      <td>5.0</td>\n",
       "      <td>2.0</td>\n",
       "      <td>1</td>\n",
       "      <td>1854.0</td>\n",
       "      <td>1</td>\n",
       "      <td>1</td>\n",
       "      <td>2.0</td>\n",
       "      <td>3.0</td>\n",
       "      <td>1</td>\n",
       "      <td>1</td>\n",
       "      <td>1</td>\n",
       "      <td>4.0</td>\n",
       "      <td>88.0</td>\n",
       "      <td>10.0</td>\n",
       "    </tr>\n",
       "    <tr>\n",
       "      <th>2</th>\n",
       "      <td>2.0</td>\n",
       "      <td>10</td>\n",
       "      <td>2</td>\n",
       "      <td>6.0</td>\n",
       "      <td>7.0</td>\n",
       "      <td>2.0</td>\n",
       "      <td>2</td>\n",
       "      <td>3162.0</td>\n",
       "      <td>1</td>\n",
       "      <td>1</td>\n",
       "      <td>2.0</td>\n",
       "      <td>1.0</td>\n",
       "      <td>1</td>\n",
       "      <td>1</td>\n",
       "      <td>1</td>\n",
       "      <td>3.0</td>\n",
       "      <td>30.0</td>\n",
       "      <td>88.0</td>\n",
       "    </tr>\n",
       "    <tr>\n",
       "      <th>3</th>\n",
       "      <td>2.0</td>\n",
       "      <td>13</td>\n",
       "      <td>2</td>\n",
       "      <td>5.0</td>\n",
       "      <td>6.0</td>\n",
       "      <td>2.0</td>\n",
       "      <td>2</td>\n",
       "      <td>2030.0</td>\n",
       "      <td>9</td>\n",
       "      <td>9</td>\n",
       "      <td>2.0</td>\n",
       "      <td>3.0</td>\n",
       "      <td>9</td>\n",
       "      <td>9</td>\n",
       "      <td>9</td>\n",
       "      <td>4.0</td>\n",
       "      <td>88.0</td>\n",
       "      <td>30.0</td>\n",
       "    </tr>\n",
       "    <tr>\n",
       "      <th>4</th>\n",
       "      <td>2.0</td>\n",
       "      <td>13</td>\n",
       "      <td>2</td>\n",
       "      <td>5.0</td>\n",
       "      <td>99.0</td>\n",
       "      <td>1.0</td>\n",
       "      <td>1</td>\n",
       "      <td>2148.0</td>\n",
       "      <td>1</td>\n",
       "      <td>1</td>\n",
       "      <td>2.0</td>\n",
       "      <td>3.0</td>\n",
       "      <td>2</td>\n",
       "      <td>1</td>\n",
       "      <td>1</td>\n",
       "      <td>2.0</td>\n",
       "      <td>88.0</td>\n",
       "      <td>88.0</td>\n",
       "    </tr>\n",
       "  </tbody>\n",
       "</table>\n",
       "</div>"
      ],
      "text/plain": [
       "   HeartDisease  Age  Sex  Education  Income  HighChol  HighBP     BMI   \n",
       "0           2.0   13    2        3.0     3.0       1.0       2  2817.0  \\\n",
       "1           2.0   11    2        5.0     5.0       2.0       1  1854.0   \n",
       "2           2.0   10    2        6.0     7.0       2.0       2  3162.0   \n",
       "3           2.0   13    2        5.0     6.0       2.0       2  2030.0   \n",
       "4           2.0   13    2        5.0    99.0       1.0       1  2148.0   \n",
       "\n",
       "   HeavyAlcoholConsump  Smoker  Stroke  Diabetes  PhysicalActivity   \n",
       "0                    1       1     2.0       3.0                 2  \\\n",
       "1                    1       1     2.0       3.0                 1   \n",
       "2                    1       1     2.0       1.0                 1   \n",
       "3                    9       9     2.0       3.0                 9   \n",
       "4                    1       1     2.0       3.0                 2   \n",
       "\n",
       "   Vegetables  Fruits  GenHealth  MenHealth  PhysHealth  \n",
       "0           1       1        3.0       88.0        15.0  \n",
       "1           1       1        4.0       88.0        10.0  \n",
       "2           1       1        3.0       30.0        88.0  \n",
       "3           9       9        4.0       88.0        30.0  \n",
       "4           1       1        2.0       88.0        88.0  "
      ]
     },
     "execution_count": 49,
     "metadata": {},
     "output_type": "execute_result"
    }
   ],
   "source": [
    "brfss.head()"
   ]
  },
  {
   "cell_type": "markdown",
   "metadata": {},
   "source": [
    "4: Cleaning Variables"
   ]
  },
  {
   "cell_type": "code",
   "execution_count": 50,
   "metadata": {},
   "outputs": [
    {
     "data": {
      "text/plain": [
       "array([0., 1.])"
      ]
     },
     "execution_count": 50,
     "metadata": {},
     "output_type": "execute_result"
    }
   ],
   "source": [
    "#HeartDisease\n",
    "#Change the response variable from 1, 2 (Yes, No) to 1, 0\n",
    "brfss['HeartDisease'] = brfss['HeartDisease'].replace({2: 0})\n",
    "brfss['HeartDisease'].unique()"
   ]
  },
  {
   "cell_type": "code",
   "execution_count": 51,
   "metadata": {},
   "outputs": [
    {
     "data": {
      "text/plain": [
       "array([13, 11, 10, 12,  8,  7,  9,  6,  5,  4,  1,  3,  2], dtype=int64)"
      ]
     },
     "execution_count": 51,
     "metadata": {},
     "output_type": "execute_result"
    }
   ],
   "source": [
    "#Age\n",
    "#ordinal variable, categories of 1 to 13, leave as is\n",
    "#remove 14 because it is unknown/missing \n",
    "brfss = brfss.drop(brfss[brfss['Age'] == 14].index)\n",
    "brfss['Age'].unique()"
   ]
  },
  {
   "cell_type": "code",
   "execution_count": 52,
   "metadata": {},
   "outputs": [
    {
     "data": {
      "text/plain": [
       "array([0, 1], dtype=int64)"
      ]
     },
     "execution_count": 52,
     "metadata": {},
     "output_type": "execute_result"
    }
   ],
   "source": [
    "#Sex\n",
    "#change male/female from 1, 2 to 1, 0 respectively\n",
    "brfss['Sex'] = brfss['Sex'].replace({2:0})\n",
    "brfss['Sex'].unique()"
   ]
  },
  {
   "cell_type": "code",
   "execution_count": 53,
   "metadata": {},
   "outputs": [
    {
     "data": {
      "text/plain": [
       "array([3., 5., 6., 4., 2., 1.])"
      ]
     },
     "execution_count": 53,
     "metadata": {},
     "output_type": "execute_result"
    }
   ],
   "source": [
    "#Education\n",
    "#ordinal variable 1 to 6, leave as is \n",
    "#remove 9 for refused to answer\n",
    "brfss = brfss.drop(brfss[brfss['Education'] == 9].index)\n",
    "brfss['Education'].unique()"
   ]
  },
  {
   "cell_type": "code",
   "execution_count": 54,
   "metadata": {},
   "outputs": [
    {
     "data": {
      "text/plain": [
       "array([3., 5., 7., 6., 8., 4., 2., 1.])"
      ]
     },
     "execution_count": 54,
     "metadata": {},
     "output_type": "execute_result"
    }
   ],
   "source": [
    "#Income\n",
    "#ordinal variable 1 to 8, leave as is\n",
    "#remove 99 and 77 for refused/don't know\n",
    "brfss = brfss.drop(brfss[brfss['Income'] == 77].index)\n",
    "brfss = brfss.drop(brfss[brfss['Income'] == 99].index)\n",
    "brfss['Income'].unique()"
   ]
  },
  {
   "cell_type": "code",
   "execution_count": 55,
   "metadata": {},
   "outputs": [
    {
     "data": {
      "text/plain": [
       "array([1., 0.])"
      ]
     },
     "execution_count": 55,
     "metadata": {},
     "output_type": "execute_result"
    }
   ],
   "source": [
    "#HighChol\n",
    "#binary variable, change response for no/yes from 2/1 to 0/1\n",
    "#remove 7 for not sure\n",
    "#remove 9 for refused\n",
    "brfss['HighChol'] = brfss['HighChol'].replace({2:0})\n",
    "brfss = brfss.drop(brfss[brfss['HighChol'] == 7].index)\n",
    "brfss = brfss.drop(brfss[brfss['HighChol'] == 9].index)\n",
    "brfss['HighChol'].unique()"
   ]
  },
  {
   "cell_type": "code",
   "execution_count": 56,
   "metadata": {},
   "outputs": [
    {
     "data": {
      "text/plain": [
       "array([1, 0], dtype=int64)"
      ]
     },
     "execution_count": 56,
     "metadata": {},
     "output_type": "execute_result"
    }
   ],
   "source": [
    "#HighBP\n",
    "#binary variable, change response for no/yes from 1/2 to 0/1\n",
    "#remove 9 for not sure/refused/missing\n",
    "brfss['HighBP'] = brfss['HighBP'].replace({1:0, 2:1})\n",
    "brfss = brfss.drop(brfss[brfss['HighBP'] == 9].index)\n",
    "brfss['HighBP'].unique()"
   ]
  },
  {
   "cell_type": "code",
   "execution_count": 57,
   "metadata": {},
   "outputs": [
    {
     "data": {
      "text/plain": [
       "array([28., 19., 32., 20., 33., 24., 17., 22., 26., 23., 25., 31., 27.,\n",
       "       35., 36., 30., 16., 34., 41., 37., 29., 42., 43., 39., 38., 21.,\n",
       "       55., 40., 18., 50., 45., 48., 47., 44., 52., 46., 51., 57., 49.,\n",
       "       59., 60., 15., 54., 58., 61., 53., 63., 67., 13., 70., 14., 56.,\n",
       "       62., 64., 68., 12., 69., 72., 74., 76., 65., 66., 92., 86., 75.,\n",
       "       79., 80., 82., 73., 87., 84., 88., 71., 81., 78., 77., 97., 94.,\n",
       "       89., 99., 83., 96., 91., 98., 95., 90., 85.])"
      ]
     },
     "execution_count": 57,
     "metadata": {},
     "output_type": "execute_result"
    }
   ],
   "source": [
    "#BMI\n",
    "#has 2 implied decimal places (e.g. 2000 bmi = 20.00)\n",
    "#divide all values by 100 to get BMI value, round to nearest int\n",
    "brfss['BMI'] = brfss['BMI'].div(100).round(0)\n",
    "brfss['BMI'].unique()"
   ]
  },
  {
   "cell_type": "code",
   "execution_count": 58,
   "metadata": {},
   "outputs": [
    {
     "data": {
      "text/plain": [
       "array([0, 1], dtype=int64)"
      ]
     },
     "execution_count": 58,
     "metadata": {},
     "output_type": "execute_result"
    }
   ],
   "source": [
    "#HeavyAlcoholConsump\n",
    "#binary variable, change response for no/yes from 1/2 to 0/1\n",
    "#remove 9 for not sure/missing\n",
    "brfss['HeavyAlcoholConsump'] = brfss['HeavyAlcoholConsump'].replace({1:0, 2:1})\n",
    "brfss = brfss.drop(brfss[brfss['HeavyAlcoholConsump'] == 9].index)\n",
    "brfss['HeavyAlcoholConsump'].unique()"
   ]
  },
  {
   "cell_type": "code",
   "execution_count": 59,
   "metadata": {},
   "outputs": [
    {
     "data": {
      "text/plain": [
       "array([0, 1], dtype=int64)"
      ]
     },
     "execution_count": 59,
     "metadata": {},
     "output_type": "execute_result"
    }
   ],
   "source": [
    "#Smoker\n",
    "##binary variable, change response for no/yes from 1/2 to 0/1\n",
    "#remove 9 for not sure/missing\n",
    "brfss['Smoker'] = brfss['Smoker'].replace({1:0, 2:1})\n",
    "brfss = brfss.drop(brfss[brfss['Smoker'] == 9].index)\n",
    "brfss['Smoker'].unique()"
   ]
  },
  {
   "cell_type": "code",
   "execution_count": 60,
   "metadata": {},
   "outputs": [
    {
     "data": {
      "text/plain": [
       "array([0., 1.])"
      ]
     },
     "execution_count": 60,
     "metadata": {},
     "output_type": "execute_result"
    }
   ],
   "source": [
    "#Stroke\n",
    "#binary variable, no/yes from 2/1 to 0/1 \n",
    "#remove 7 for dont know/not sure\n",
    "#remove 9 for refused\n",
    "brfss['Stroke'] = brfss['Stroke'].replace({2:0})\n",
    "brfss = brfss.drop(brfss[brfss['Stroke'] == 7].index)\n",
    "brfss = brfss.drop(brfss[brfss['Stroke'] == 9].index)\n",
    "brfss['Stroke'].unique()"
   ]
  },
  {
   "cell_type": "code",
   "execution_count": 61,
   "metadata": {},
   "outputs": [
    {
     "data": {
      "text/plain": [
       "array([0., 2., 1.])"
      ]
     },
     "execution_count": 61,
     "metadata": {},
     "output_type": "execute_result"
    }
   ],
   "source": [
    "#Diabetes\n",
    "#response from 1, 2, 3, 4 (yes, only during preg, no, pre-diabetes/borderline)\n",
    "#change response to 0, 1, 2 (no/during preg, pre/borderline, yes)\n",
    "#remove 7 for not sure/don't know\n",
    "#remove 9 for refused\n",
    "brfss['Diabetes'] = brfss['Diabetes'].replace({2:0, 3:0, 1:2, 4:1})\n",
    "brfss = brfss.drop(brfss[brfss['Diabetes'] == 7].index)\n",
    "brfss = brfss.drop(brfss[brfss['Diabetes'] == 9].index)\n",
    "brfss['Diabetes'].unique()"
   ]
  },
  {
   "cell_type": "code",
   "execution_count": 62,
   "metadata": {},
   "outputs": [
    {
     "data": {
      "text/plain": [
       "array([0, 1], dtype=int64)"
      ]
     },
     "execution_count": 62,
     "metadata": {},
     "output_type": "execute_result"
    }
   ],
   "source": [
    "#PhysicalActivity\n",
    "#binary vairable, yes/no from 1/2 to 1/0\n",
    "#remove 9 for refused/not sure\n",
    "brfss['PhysicalActivity'] = brfss['PhysicalActivity'].replace({2:0})\n",
    "brfss = brfss.drop(brfss[brfss['PhysicalActivity'] == 9].index)\n",
    "brfss['PhysicalActivity'].unique()"
   ]
  },
  {
   "cell_type": "code",
   "execution_count": 63,
   "metadata": {},
   "outputs": [
    {
     "data": {
      "text/plain": [
       "array([1, 0], dtype=int64)"
      ]
     },
     "execution_count": 63,
     "metadata": {},
     "output_type": "execute_result"
    }
   ],
   "source": [
    "#VEGETABLES\n",
    "#binary variable, change 2 to 0 for less than 1 vegetable a day\n",
    "#remove 9 for refused/dont know/missing\n",
    "brfss['Vegetables'] = brfss['Vegetables'].replace({2:0})\n",
    "brfss = brfss.drop(brfss[brfss['Vegetables'] == 9].index)\n",
    "brfss['Vegetables'].unique()"
   ]
  },
  {
   "cell_type": "code",
   "execution_count": 64,
   "metadata": {},
   "outputs": [
    {
     "data": {
      "text/plain": [
       "array([1, 0], dtype=int64)"
      ]
     },
     "execution_count": 64,
     "metadata": {},
     "output_type": "execute_result"
    }
   ],
   "source": [
    "#FRUITS\n",
    "#binary variable, change 2 to 0 for less than 1 fruit a day\n",
    "#remove 9 for refused/dont know/missing\n",
    "brfss['Fruits'] = brfss['Fruits'].replace({2:0})\n",
    "brfss = brfss.drop(brfss[brfss['Fruits'] == 9].index)\n",
    "brfss['Fruits'].unique()"
   ]
  },
  {
   "cell_type": "code",
   "execution_count": 65,
   "metadata": {},
   "outputs": [
    {
     "data": {
      "text/plain": [
       "array([3., 4., 2., 5., 1.])"
      ]
     },
     "execution_count": 65,
     "metadata": {},
     "output_type": "execute_result"
    }
   ],
   "source": [
    "#GenHealth\n",
    "#ordinal variable 1 to 5 (1 being excellent, 5 being poor), leave as is\n",
    "#remove 7 for don't know/not sure\n",
    "#remove 9 for refused\n",
    "brfss = brfss.drop(brfss[brfss['GenHealth'] == 7].index)\n",
    "brfss = brfss.drop(brfss[brfss['GenHealth'] == 9].index)\n",
    "brfss['GenHealth'].unique()"
   ]
  },
  {
   "cell_type": "code",
   "execution_count": 66,
   "metadata": {},
   "outputs": [
    {
     "data": {
      "text/plain": [
       "array([ 0., 30.,  4.,  1.,  2., 15.,  5., 10.,  7.,  3.,  6., 20.,  8.,\n",
       "       25., 14., 21., 17., 28., 16., 12., 27., 26., 24., 29.,  9., 13.,\n",
       "       18., 23., 22., 11., 19.])"
      ]
     },
     "execution_count": 66,
     "metadata": {},
     "output_type": "execute_result"
    }
   ],
   "source": [
    "#MenHealth\n",
    "#int variable, number of days from 1-30, leave as is\n",
    "#change 88 to 0 for none\n",
    "#remove 77 for not sure\n",
    "#remove 99 for refused\n",
    "brfss['MenHealth'] = brfss['MenHealth'].replace({88:0})\n",
    "brfss = brfss.drop(brfss[brfss['MenHealth'] == 77].index)\n",
    "brfss = brfss.drop(brfss[brfss['MenHealth'] == 99].index)\n",
    "brfss['MenHealth'].unique()"
   ]
  },
  {
   "cell_type": "code",
   "execution_count": 67,
   "metadata": {},
   "outputs": [
    {
     "data": {
      "text/plain": [
       "array([15., 10.,  0., 30., 20.,  2.,  1.,  7., 14.,  5., 25.,  4.,  6.,\n",
       "        3., 21.,  8., 28., 27., 12., 17., 23., 18., 13., 29., 19.,  9.,\n",
       "       16., 24., 26., 11., 22.])"
      ]
     },
     "execution_count": 67,
     "metadata": {},
     "output_type": "execute_result"
    }
   ],
   "source": [
    "#PhysHealth\n",
    "#int variable, number of days from 1-30, leave as is\n",
    "#change 88 to 0 for none\n",
    "#remove 77 for not sure\n",
    "#remove 99 for refused\n",
    "brfss['PhysHealth'] = brfss['PhysHealth'].replace({88:0})\n",
    "brfss = brfss.drop(brfss[brfss['PhysHealth'] == 77].index)\n",
    "brfss = brfss.drop(brfss[brfss['PhysHealth'] == 99].index)\n",
    "brfss['PhysHealth'].unique()"
   ]
  },
  {
   "cell_type": "markdown",
   "metadata": {},
   "source": [
    "5: Cleaned and Modified Dataset"
   ]
  },
  {
   "cell_type": "code",
   "execution_count": 68,
   "metadata": {},
   "outputs": [
    {
     "data": {
      "text/html": [
       "<div>\n",
       "<style scoped>\n",
       "    .dataframe tbody tr th:only-of-type {\n",
       "        vertical-align: middle;\n",
       "    }\n",
       "\n",
       "    .dataframe tbody tr th {\n",
       "        vertical-align: top;\n",
       "    }\n",
       "\n",
       "    .dataframe thead th {\n",
       "        text-align: right;\n",
       "    }\n",
       "</style>\n",
       "<table border=\"1\" class=\"dataframe\">\n",
       "  <thead>\n",
       "    <tr style=\"text-align: right;\">\n",
       "      <th></th>\n",
       "      <th>HeartDisease</th>\n",
       "      <th>Age</th>\n",
       "      <th>Sex</th>\n",
       "      <th>Education</th>\n",
       "      <th>Income</th>\n",
       "      <th>HighChol</th>\n",
       "      <th>HighBP</th>\n",
       "      <th>BMI</th>\n",
       "      <th>HeavyAlcoholConsump</th>\n",
       "      <th>Smoker</th>\n",
       "      <th>Stroke</th>\n",
       "      <th>Diabetes</th>\n",
       "      <th>PhysicalActivity</th>\n",
       "      <th>Vegetables</th>\n",
       "      <th>Fruits</th>\n",
       "      <th>GenHealth</th>\n",
       "      <th>MenHealth</th>\n",
       "      <th>PhysHealth</th>\n",
       "    </tr>\n",
       "  </thead>\n",
       "  <tbody>\n",
       "    <tr>\n",
       "      <th>0</th>\n",
       "      <td>0.0</td>\n",
       "      <td>13</td>\n",
       "      <td>0</td>\n",
       "      <td>3.0</td>\n",
       "      <td>3.0</td>\n",
       "      <td>1.0</td>\n",
       "      <td>1</td>\n",
       "      <td>28.0</td>\n",
       "      <td>0</td>\n",
       "      <td>0</td>\n",
       "      <td>0.0</td>\n",
       "      <td>0.0</td>\n",
       "      <td>0</td>\n",
       "      <td>1</td>\n",
       "      <td>1</td>\n",
       "      <td>3.0</td>\n",
       "      <td>0.0</td>\n",
       "      <td>15.0</td>\n",
       "    </tr>\n",
       "    <tr>\n",
       "      <th>1</th>\n",
       "      <td>0.0</td>\n",
       "      <td>11</td>\n",
       "      <td>0</td>\n",
       "      <td>5.0</td>\n",
       "      <td>5.0</td>\n",
       "      <td>0.0</td>\n",
       "      <td>0</td>\n",
       "      <td>19.0</td>\n",
       "      <td>0</td>\n",
       "      <td>0</td>\n",
       "      <td>0.0</td>\n",
       "      <td>0.0</td>\n",
       "      <td>1</td>\n",
       "      <td>1</td>\n",
       "      <td>1</td>\n",
       "      <td>4.0</td>\n",
       "      <td>0.0</td>\n",
       "      <td>10.0</td>\n",
       "    </tr>\n",
       "    <tr>\n",
       "      <th>2</th>\n",
       "      <td>0.0</td>\n",
       "      <td>10</td>\n",
       "      <td>0</td>\n",
       "      <td>6.0</td>\n",
       "      <td>7.0</td>\n",
       "      <td>0.0</td>\n",
       "      <td>1</td>\n",
       "      <td>32.0</td>\n",
       "      <td>0</td>\n",
       "      <td>0</td>\n",
       "      <td>0.0</td>\n",
       "      <td>2.0</td>\n",
       "      <td>1</td>\n",
       "      <td>1</td>\n",
       "      <td>1</td>\n",
       "      <td>3.0</td>\n",
       "      <td>30.0</td>\n",
       "      <td>0.0</td>\n",
       "    </tr>\n",
       "    <tr>\n",
       "      <th>6</th>\n",
       "      <td>0.0</td>\n",
       "      <td>11</td>\n",
       "      <td>1</td>\n",
       "      <td>6.0</td>\n",
       "      <td>7.0</td>\n",
       "      <td>0.0</td>\n",
       "      <td>0</td>\n",
       "      <td>33.0</td>\n",
       "      <td>0</td>\n",
       "      <td>1</td>\n",
       "      <td>0.0</td>\n",
       "      <td>2.0</td>\n",
       "      <td>1</td>\n",
       "      <td>1</td>\n",
       "      <td>1</td>\n",
       "      <td>2.0</td>\n",
       "      <td>0.0</td>\n",
       "      <td>30.0</td>\n",
       "    </tr>\n",
       "    <tr>\n",
       "      <th>9</th>\n",
       "      <td>0.0</td>\n",
       "      <td>11</td>\n",
       "      <td>0</td>\n",
       "      <td>2.0</td>\n",
       "      <td>3.0</td>\n",
       "      <td>1.0</td>\n",
       "      <td>0</td>\n",
       "      <td>17.0</td>\n",
       "      <td>0</td>\n",
       "      <td>0</td>\n",
       "      <td>0.0</td>\n",
       "      <td>2.0</td>\n",
       "      <td>0</td>\n",
       "      <td>0</td>\n",
       "      <td>0</td>\n",
       "      <td>5.0</td>\n",
       "      <td>0.0</td>\n",
       "      <td>20.0</td>\n",
       "    </tr>\n",
       "  </tbody>\n",
       "</table>\n",
       "</div>"
      ],
      "text/plain": [
       "   HeartDisease  Age  Sex  Education  Income  HighChol  HighBP   BMI   \n",
       "0           0.0   13    0        3.0     3.0       1.0       1  28.0  \\\n",
       "1           0.0   11    0        5.0     5.0       0.0       0  19.0   \n",
       "2           0.0   10    0        6.0     7.0       0.0       1  32.0   \n",
       "6           0.0   11    1        6.0     7.0       0.0       0  33.0   \n",
       "9           0.0   11    0        2.0     3.0       1.0       0  17.0   \n",
       "\n",
       "   HeavyAlcoholConsump  Smoker  Stroke  Diabetes  PhysicalActivity   \n",
       "0                    0       0     0.0       0.0                 0  \\\n",
       "1                    0       0     0.0       0.0                 1   \n",
       "2                    0       0     0.0       2.0                 1   \n",
       "6                    0       1     0.0       2.0                 1   \n",
       "9                    0       0     0.0       2.0                 0   \n",
       "\n",
       "   Vegetables  Fruits  GenHealth  MenHealth  PhysHealth  \n",
       "0           1       1        3.0        0.0        15.0  \n",
       "1           1       1        4.0        0.0        10.0  \n",
       "2           1       1        3.0       30.0         0.0  \n",
       "6           1       1        2.0        0.0        30.0  \n",
       "9           0       0        5.0        0.0        20.0  "
      ]
     },
     "execution_count": 68,
     "metadata": {},
     "output_type": "execute_result"
    }
   ],
   "source": [
    "brfss.head()"
   ]
  },
  {
   "cell_type": "code",
   "execution_count": 69,
   "metadata": {},
   "outputs": [
    {
     "data": {
      "text/plain": [
       "(256203, 18)"
      ]
     },
     "execution_count": 69,
     "metadata": {},
     "output_type": "execute_result"
    }
   ],
   "source": [
    "brfss.shape"
   ]
  },
  {
   "cell_type": "code",
   "execution_count": 70,
   "metadata": {},
   "outputs": [
    {
     "data": {
      "text/plain": [
       "HeartDisease\n",
       "0.0    233139\n",
       "1.0     23064\n",
       "Name: count, dtype: int64"
      ]
     },
     "execution_count": 70,
     "metadata": {},
     "output_type": "execute_result"
    }
   ],
   "source": [
    "brfss['HeartDisease'].value_counts()"
   ]
  },
  {
   "cell_type": "code",
   "execution_count": 71,
   "metadata": {},
   "outputs": [],
   "source": [
    "brfss.to_csv('heart_disease_brfss2019.csv', sep=',', index=False)"
   ]
  }
 ],
 "metadata": {
  "kernelspec": {
   "display_name": "Python 3",
   "language": "python",
   "name": "python3"
  },
  "language_info": {
   "codemirror_mode": {
    "name": "ipython",
    "version": 3
   },
   "file_extension": ".py",
   "mimetype": "text/x-python",
   "name": "python",
   "nbconvert_exporter": "python",
   "pygments_lexer": "ipython3",
   "version": "3.11.2"
  }
 },
 "nbformat": 4,
 "nbformat_minor": 2
}
