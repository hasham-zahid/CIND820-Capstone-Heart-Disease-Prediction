{
 "cells": [
  {
   "cell_type": "code",
   "execution_count": 2,
   "metadata": {},
   "outputs": [],
   "source": [
    "import warnings\n",
    "warnings.filterwarnings('ignore')"
   ]
  },
  {
   "cell_type": "code",
   "execution_count": 3,
   "metadata": {},
   "outputs": [],
   "source": [
    "import numpy as np\n",
    "import pandas as pd \n",
    "import matplotlib.pyplot as plt\n",
    "import seaborn as sns "
   ]
  },
  {
   "cell_type": "markdown",
   "metadata": {},
   "source": [
    "### The Data"
   ]
  },
  {
   "cell_type": "code",
   "execution_count": 4,
   "metadata": {},
   "outputs": [],
   "source": [
    "#drop duplicates from the dataset\n",
    "brfss = pd.read_csv('heart_disease_brfss2019.csv')\n",
    "brfss = brfss.drop_duplicates(subset=None, keep='first', inplace=False)"
   ]
  },
  {
   "cell_type": "code",
   "execution_count": 5,
   "metadata": {},
   "outputs": [
    {
     "data": {
      "text/html": [
       "<div>\n",
       "<style scoped>\n",
       "    .dataframe tbody tr th:only-of-type {\n",
       "        vertical-align: middle;\n",
       "    }\n",
       "\n",
       "    .dataframe tbody tr th {\n",
       "        vertical-align: top;\n",
       "    }\n",
       "\n",
       "    .dataframe thead th {\n",
       "        text-align: right;\n",
       "    }\n",
       "</style>\n",
       "<table border=\"1\" class=\"dataframe\">\n",
       "  <thead>\n",
       "    <tr style=\"text-align: right;\">\n",
       "      <th></th>\n",
       "      <th>HeartDisease</th>\n",
       "      <th>Age</th>\n",
       "      <th>Sex</th>\n",
       "      <th>Education</th>\n",
       "      <th>Income</th>\n",
       "      <th>HighChol</th>\n",
       "      <th>HighBP</th>\n",
       "      <th>BMI</th>\n",
       "      <th>HeavyAlcoholConsump</th>\n",
       "      <th>Smoker</th>\n",
       "      <th>Stroke</th>\n",
       "      <th>Diabetes</th>\n",
       "      <th>PhysicalActivity</th>\n",
       "      <th>Vegetables</th>\n",
       "      <th>Fruits</th>\n",
       "      <th>GenHealth</th>\n",
       "      <th>MenHealth</th>\n",
       "      <th>PhysHealth</th>\n",
       "    </tr>\n",
       "  </thead>\n",
       "  <tbody>\n",
       "    <tr>\n",
       "      <th>0</th>\n",
       "      <td>0.0</td>\n",
       "      <td>13</td>\n",
       "      <td>0</td>\n",
       "      <td>3.0</td>\n",
       "      <td>3.0</td>\n",
       "      <td>1.0</td>\n",
       "      <td>1</td>\n",
       "      <td>28.0</td>\n",
       "      <td>0</td>\n",
       "      <td>0</td>\n",
       "      <td>0.0</td>\n",
       "      <td>0.0</td>\n",
       "      <td>0</td>\n",
       "      <td>1</td>\n",
       "      <td>1</td>\n",
       "      <td>3.0</td>\n",
       "      <td>0.0</td>\n",
       "      <td>15.0</td>\n",
       "    </tr>\n",
       "    <tr>\n",
       "      <th>1</th>\n",
       "      <td>0.0</td>\n",
       "      <td>11</td>\n",
       "      <td>0</td>\n",
       "      <td>5.0</td>\n",
       "      <td>5.0</td>\n",
       "      <td>0.0</td>\n",
       "      <td>0</td>\n",
       "      <td>19.0</td>\n",
       "      <td>0</td>\n",
       "      <td>0</td>\n",
       "      <td>0.0</td>\n",
       "      <td>0.0</td>\n",
       "      <td>1</td>\n",
       "      <td>1</td>\n",
       "      <td>1</td>\n",
       "      <td>4.0</td>\n",
       "      <td>0.0</td>\n",
       "      <td>10.0</td>\n",
       "    </tr>\n",
       "    <tr>\n",
       "      <th>2</th>\n",
       "      <td>0.0</td>\n",
       "      <td>10</td>\n",
       "      <td>0</td>\n",
       "      <td>6.0</td>\n",
       "      <td>7.0</td>\n",
       "      <td>0.0</td>\n",
       "      <td>1</td>\n",
       "      <td>32.0</td>\n",
       "      <td>0</td>\n",
       "      <td>0</td>\n",
       "      <td>0.0</td>\n",
       "      <td>2.0</td>\n",
       "      <td>1</td>\n",
       "      <td>1</td>\n",
       "      <td>1</td>\n",
       "      <td>3.0</td>\n",
       "      <td>30.0</td>\n",
       "      <td>0.0</td>\n",
       "    </tr>\n",
       "    <tr>\n",
       "      <th>3</th>\n",
       "      <td>0.0</td>\n",
       "      <td>11</td>\n",
       "      <td>1</td>\n",
       "      <td>6.0</td>\n",
       "      <td>7.0</td>\n",
       "      <td>0.0</td>\n",
       "      <td>0</td>\n",
       "      <td>33.0</td>\n",
       "      <td>0</td>\n",
       "      <td>1</td>\n",
       "      <td>0.0</td>\n",
       "      <td>2.0</td>\n",
       "      <td>1</td>\n",
       "      <td>1</td>\n",
       "      <td>1</td>\n",
       "      <td>2.0</td>\n",
       "      <td>0.0</td>\n",
       "      <td>30.0</td>\n",
       "    </tr>\n",
       "    <tr>\n",
       "      <th>4</th>\n",
       "      <td>0.0</td>\n",
       "      <td>11</td>\n",
       "      <td>0</td>\n",
       "      <td>2.0</td>\n",
       "      <td>3.0</td>\n",
       "      <td>1.0</td>\n",
       "      <td>0</td>\n",
       "      <td>17.0</td>\n",
       "      <td>0</td>\n",
       "      <td>0</td>\n",
       "      <td>0.0</td>\n",
       "      <td>2.0</td>\n",
       "      <td>0</td>\n",
       "      <td>0</td>\n",
       "      <td>0</td>\n",
       "      <td>5.0</td>\n",
       "      <td>0.0</td>\n",
       "      <td>20.0</td>\n",
       "    </tr>\n",
       "  </tbody>\n",
       "</table>\n",
       "</div>"
      ],
      "text/plain": [
       "   HeartDisease  Age  Sex  Education  Income  HighChol  HighBP   BMI   \n",
       "0           0.0   13    0        3.0     3.0       1.0       1  28.0  \\\n",
       "1           0.0   11    0        5.0     5.0       0.0       0  19.0   \n",
       "2           0.0   10    0        6.0     7.0       0.0       1  32.0   \n",
       "3           0.0   11    1        6.0     7.0       0.0       0  33.0   \n",
       "4           0.0   11    0        2.0     3.0       1.0       0  17.0   \n",
       "\n",
       "   HeavyAlcoholConsump  Smoker  Stroke  Diabetes  PhysicalActivity   \n",
       "0                    0       0     0.0       0.0                 0  \\\n",
       "1                    0       0     0.0       0.0                 1   \n",
       "2                    0       0     0.0       2.0                 1   \n",
       "3                    0       1     0.0       2.0                 1   \n",
       "4                    0       0     0.0       2.0                 0   \n",
       "\n",
       "   Vegetables  Fruits  GenHealth  MenHealth  PhysHealth  \n",
       "0           1       1        3.0        0.0        15.0  \n",
       "1           1       1        4.0        0.0        10.0  \n",
       "2           1       1        3.0       30.0         0.0  \n",
       "3           1       1        2.0        0.0        30.0  \n",
       "4           0       0        5.0        0.0        20.0  "
      ]
     },
     "execution_count": 5,
     "metadata": {},
     "output_type": "execute_result"
    }
   ],
   "source": [
    "brfss.head()"
   ]
  },
  {
   "cell_type": "code",
   "execution_count": 6,
   "metadata": {},
   "outputs": [
    {
     "data": {
      "text/plain": [
       "(227047, 18)"
      ]
     },
     "execution_count": 6,
     "metadata": {},
     "output_type": "execute_result"
    }
   ],
   "source": [
    "brfss.shape"
   ]
  },
  {
   "cell_type": "code",
   "execution_count": 7,
   "metadata": {},
   "outputs": [
    {
     "data": {
      "image/png": "[encoded data removed]",
      "text/plain": [
       "<Figure size 640x480 with 2 Axes>"
      ]
     },
     "metadata": {},
     "output_type": "display_data"
    },
    {
     "data": {
      "text/html": [
       "<div>\n",
       "<style scoped>\n",
       "    .dataframe tbody tr th:only-of-type {\n",
       "        vertical-align: middle;\n",
       "    }\n",
       "\n",
       "    .dataframe tbody tr th {\n",
       "        vertical-align: top;\n",
       "    }\n",
       "\n",
       "    .dataframe thead th {\n",
       "        text-align: right;\n",
       "    }\n",
       "</style>\n",
       "<table border=\"1\" class=\"dataframe\">\n",
       "  <thead>\n",
       "    <tr style=\"text-align: right;\">\n",
       "      <th></th>\n",
       "      <th>HeartDisease</th>\n",
       "      <th>Age</th>\n",
       "      <th>Sex</th>\n",
       "      <th>Education</th>\n",
       "      <th>Income</th>\n",
       "      <th>HighChol</th>\n",
       "      <th>HighBP</th>\n",
       "      <th>BMI</th>\n",
       "      <th>HeavyAlcoholConsump</th>\n",
       "      <th>Smoker</th>\n",
       "      <th>Stroke</th>\n",
       "      <th>Diabetes</th>\n",
       "      <th>PhysicalActivity</th>\n",
       "      <th>Vegetables</th>\n",
       "      <th>Fruits</th>\n",
       "      <th>GenHealth</th>\n",
       "      <th>MenHealth</th>\n",
       "      <th>PhysHealth</th>\n",
       "    </tr>\n",
       "  </thead>\n",
       "  <tbody>\n",
       "    <tr>\n",
       "      <th>HeartDisease</th>\n",
       "      <td>1.000000</td>\n",
       "      <td>0.229607</td>\n",
       "      <td>0.084947</td>\n",
       "      <td>-0.061838</td>\n",
       "      <td>-0.106060</td>\n",
       "      <td>0.186037</td>\n",
       "      <td>0.206152</td>\n",
       "      <td>0.036320</td>\n",
       "      <td>-0.038286</td>\n",
       "      <td>0.020145</td>\n",
       "      <td>0.195105</td>\n",
       "      <td>0.172058</td>\n",
       "      <td>-0.071736</td>\n",
       "      <td>-0.007086</td>\n",
       "      <td>0.009968</td>\n",
       "      <td>0.232193</td>\n",
       "      <td>0.037532</td>\n",
       "      <td>0.172922</td>\n",
       "    </tr>\n",
       "    <tr>\n",
       "      <th>Age</th>\n",
       "      <td>0.229607</td>\n",
       "      <td>1.000000</td>\n",
       "      <td>-0.041317</td>\n",
       "      <td>-0.030047</td>\n",
       "      <td>-0.072718</td>\n",
       "      <td>0.300146</td>\n",
       "      <td>0.360444</td>\n",
       "      <td>-0.018222</td>\n",
       "      <td>-0.059214</td>\n",
       "      <td>-0.094295</td>\n",
       "      <td>0.140383</td>\n",
       "      <td>0.217921</td>\n",
       "      <td>-0.093445</td>\n",
       "      <td>0.029683</td>\n",
       "      <td>0.089220</td>\n",
       "      <td>0.144580</td>\n",
       "      <td>-0.151428</td>\n",
       "      <td>0.111619</td>\n",
       "    </tr>\n",
       "    <tr>\n",
       "      <th>Sex</th>\n",
       "      <td>0.084947</td>\n",
       "      <td>-0.041317</td>\n",
       "      <td>1.000000</td>\n",
       "      <td>-0.020611</td>\n",
       "      <td>0.114492</td>\n",
       "      <td>0.012746</td>\n",
       "      <td>0.050814</td>\n",
       "      <td>0.003942</td>\n",
       "      <td>0.012306</td>\n",
       "      <td>0.010663</td>\n",
       "      <td>0.007144</td>\n",
       "      <td>0.032213</td>\n",
       "      <td>0.036975</td>\n",
       "      <td>-0.057577</td>\n",
       "      <td>-0.057681</td>\n",
       "      <td>-0.006212</td>\n",
       "      <td>-0.084218</td>\n",
       "      <td>-0.038019</td>\n",
       "    </tr>\n",
       "    <tr>\n",
       "      <th>Education</th>\n",
       "      <td>-0.061838</td>\n",
       "      <td>-0.030047</td>\n",
       "      <td>-0.020611</td>\n",
       "      <td>1.000000</td>\n",
       "      <td>0.400087</td>\n",
       "      <td>-0.012498</td>\n",
       "      <td>-0.075109</td>\n",
       "      <td>-0.059862</td>\n",
       "      <td>0.031366</td>\n",
       "      <td>-0.158912</td>\n",
       "      <td>-0.051083</td>\n",
       "      <td>-0.086036</td>\n",
       "      <td>0.180337</td>\n",
       "      <td>0.109507</td>\n",
       "      <td>0.070547</td>\n",
       "      <td>-0.213876</td>\n",
       "      <td>-0.060164</td>\n",
       "      <td>-0.105636</td>\n",
       "    </tr>\n",
       "    <tr>\n",
       "      <th>Income</th>\n",
       "      <td>-0.106060</td>\n",
       "      <td>-0.072718</td>\n",
       "      <td>0.114492</td>\n",
       "      <td>0.400087</td>\n",
       "      <td>1.000000</td>\n",
       "      <td>-0.029019</td>\n",
       "      <td>-0.101367</td>\n",
       "      <td>-0.044609</td>\n",
       "      <td>0.066779</td>\n",
       "      <td>-0.166727</td>\n",
       "      <td>-0.109869</td>\n",
       "      <td>-0.124534</td>\n",
       "      <td>0.181822</td>\n",
       "      <td>0.119903</td>\n",
       "      <td>0.039937</td>\n",
       "      <td>-0.303718</td>\n",
       "      <td>-0.168562</td>\n",
       "      <td>-0.228096</td>\n",
       "    </tr>\n",
       "    <tr>\n",
       "      <th>HighChol</th>\n",
       "      <td>0.186037</td>\n",
       "      <td>0.300146</td>\n",
       "      <td>0.012746</td>\n",
       "      <td>-0.012498</td>\n",
       "      <td>-0.029019</td>\n",
       "      <td>1.000000</td>\n",
       "      <td>0.300159</td>\n",
       "      <td>0.094126</td>\n",
       "      <td>-0.025008</td>\n",
       "      <td>-0.015576</td>\n",
       "      <td>0.098358</td>\n",
       "      <td>0.218521</td>\n",
       "      <td>-0.052013</td>\n",
       "      <td>-0.004058</td>\n",
       "      <td>-0.007554</td>\n",
       "      <td>0.176082</td>\n",
       "      <td>0.021639</td>\n",
       "      <td>0.114603</td>\n",
       "    </tr>\n",
       "    <tr>\n",
       "      <th>HighBP</th>\n",
       "      <td>0.206152</td>\n",
       "      <td>0.360444</td>\n",
       "      <td>0.050814</td>\n",
       "      <td>-0.075109</td>\n",
       "      <td>-0.101367</td>\n",
       "      <td>0.300159</td>\n",
       "      <td>1.000000</td>\n",
       "      <td>0.205674</td>\n",
       "      <td>-0.018015</td>\n",
       "      <td>-0.017352</td>\n",
       "      <td>0.134510</td>\n",
       "      <td>0.269407</td>\n",
       "      <td>-0.092789</td>\n",
       "      <td>-0.011803</td>\n",
       "      <td>-0.003887</td>\n",
       "      <td>0.254723</td>\n",
       "      <td>0.014472</td>\n",
       "      <td>0.147257</td>\n",
       "    </tr>\n",
       "    <tr>\n",
       "      <th>BMI</th>\n",
       "      <td>0.036320</td>\n",
       "      <td>-0.018222</td>\n",
       "      <td>0.003942</td>\n",
       "      <td>-0.059862</td>\n",
       "      <td>-0.044609</td>\n",
       "      <td>0.094126</td>\n",
       "      <td>0.205674</td>\n",
       "      <td>1.000000</td>\n",
       "      <td>-0.051091</td>\n",
       "      <td>-0.052419</td>\n",
       "      <td>0.007600</td>\n",
       "      <td>0.212403</td>\n",
       "      <td>-0.120161</td>\n",
       "      <td>-0.025162</td>\n",
       "      <td>-0.062540</td>\n",
       "      <td>0.216492</td>\n",
       "      <td>0.059940</td>\n",
       "      <td>0.102264</td>\n",
       "    </tr>\n",
       "    <tr>\n",
       "      <th>HeavyAlcoholConsump</th>\n",
       "      <td>-0.038286</td>\n",
       "      <td>-0.059214</td>\n",
       "      <td>0.012306</td>\n",
       "      <td>0.031366</td>\n",
       "      <td>0.066779</td>\n",
       "      <td>-0.025008</td>\n",
       "      <td>-0.018015</td>\n",
       "      <td>-0.051091</td>\n",
       "      <td>1.000000</td>\n",
       "      <td>0.093771</td>\n",
       "      <td>-0.028156</td>\n",
       "      <td>-0.074995</td>\n",
       "      <td>0.029284</td>\n",
       "      <td>0.025495</td>\n",
       "      <td>-0.030981</td>\n",
       "      <td>-0.045539</td>\n",
       "      <td>0.027654</td>\n",
       "      <td>-0.034420</td>\n",
       "    </tr>\n",
       "    <tr>\n",
       "      <th>Smoker</th>\n",
       "      <td>0.020145</td>\n",
       "      <td>-0.094295</td>\n",
       "      <td>0.010663</td>\n",
       "      <td>-0.158912</td>\n",
       "      <td>-0.166727</td>\n",
       "      <td>-0.015576</td>\n",
       "      <td>-0.017352</td>\n",
       "      <td>-0.052419</td>\n",
       "      <td>0.093771</td>\n",
       "      <td>1.000000</td>\n",
       "      <td>0.024099</td>\n",
       "      <td>-0.023957</td>\n",
       "      <td>-0.076531</td>\n",
       "      <td>-0.027412</td>\n",
       "      <td>-0.090881</td>\n",
       "      <td>0.129654</td>\n",
       "      <td>0.145651</td>\n",
       "      <td>0.090949</td>\n",
       "    </tr>\n",
       "    <tr>\n",
       "      <th>Stroke</th>\n",
       "      <td>0.195105</td>\n",
       "      <td>0.140383</td>\n",
       "      <td>0.007144</td>\n",
       "      <td>-0.051083</td>\n",
       "      <td>-0.109869</td>\n",
       "      <td>0.098358</td>\n",
       "      <td>0.134510</td>\n",
       "      <td>0.007600</td>\n",
       "      <td>-0.028156</td>\n",
       "      <td>0.024099</td>\n",
       "      <td>1.000000</td>\n",
       "      <td>0.108042</td>\n",
       "      <td>-0.060930</td>\n",
       "      <td>-0.012770</td>\n",
       "      <td>0.007652</td>\n",
       "      <td>0.162797</td>\n",
       "      <td>0.053099</td>\n",
       "      <td>0.137133</td>\n",
       "    </tr>\n",
       "    <tr>\n",
       "      <th>Diabetes</th>\n",
       "      <td>0.172058</td>\n",
       "      <td>0.217921</td>\n",
       "      <td>0.032213</td>\n",
       "      <td>-0.086036</td>\n",
       "      <td>-0.124534</td>\n",
       "      <td>0.218521</td>\n",
       "      <td>0.269407</td>\n",
       "      <td>0.212403</td>\n",
       "      <td>-0.074995</td>\n",
       "      <td>-0.023957</td>\n",
       "      <td>0.108042</td>\n",
       "      <td>1.000000</td>\n",
       "      <td>-0.102249</td>\n",
       "      <td>-0.022898</td>\n",
       "      <td>-0.008883</td>\n",
       "      <td>0.270186</td>\n",
       "      <td>0.031782</td>\n",
       "      <td>0.158792</td>\n",
       "    </tr>\n",
       "    <tr>\n",
       "      <th>PhysicalActivity</th>\n",
       "      <td>-0.071736</td>\n",
       "      <td>-0.093445</td>\n",
       "      <td>0.036975</td>\n",
       "      <td>0.180337</td>\n",
       "      <td>0.181822</td>\n",
       "      <td>-0.052013</td>\n",
       "      <td>-0.092789</td>\n",
       "      <td>-0.120161</td>\n",
       "      <td>0.029284</td>\n",
       "      <td>-0.076531</td>\n",
       "      <td>-0.060930</td>\n",
       "      <td>-0.102249</td>\n",
       "      <td>1.000000</td>\n",
       "      <td>0.106584</td>\n",
       "      <td>0.101466</td>\n",
       "      <td>-0.231350</td>\n",
       "      <td>-0.086176</td>\n",
       "      <td>-0.190155</td>\n",
       "    </tr>\n",
       "    <tr>\n",
       "      <th>Vegetables</th>\n",
       "      <td>-0.007086</td>\n",
       "      <td>0.029683</td>\n",
       "      <td>-0.057577</td>\n",
       "      <td>0.109507</td>\n",
       "      <td>0.119903</td>\n",
       "      <td>-0.004058</td>\n",
       "      <td>-0.011803</td>\n",
       "      <td>-0.025162</td>\n",
       "      <td>0.025495</td>\n",
       "      <td>-0.027412</td>\n",
       "      <td>-0.012770</td>\n",
       "      <td>-0.022898</td>\n",
       "      <td>0.106584</td>\n",
       "      <td>1.000000</td>\n",
       "      <td>0.206771</td>\n",
       "      <td>-0.074488</td>\n",
       "      <td>-0.036260</td>\n",
       "      <td>-0.031992</td>\n",
       "    </tr>\n",
       "    <tr>\n",
       "      <th>Fruits</th>\n",
       "      <td>0.009968</td>\n",
       "      <td>0.089220</td>\n",
       "      <td>-0.057681</td>\n",
       "      <td>0.070547</td>\n",
       "      <td>0.039937</td>\n",
       "      <td>-0.007554</td>\n",
       "      <td>-0.003887</td>\n",
       "      <td>-0.062540</td>\n",
       "      <td>-0.030981</td>\n",
       "      <td>-0.090881</td>\n",
       "      <td>0.007652</td>\n",
       "      <td>-0.008883</td>\n",
       "      <td>0.101466</td>\n",
       "      <td>0.206771</td>\n",
       "      <td>1.000000</td>\n",
       "      <td>-0.058235</td>\n",
       "      <td>-0.058036</td>\n",
       "      <td>-0.021568</td>\n",
       "    </tr>\n",
       "    <tr>\n",
       "      <th>GenHealth</th>\n",
       "      <td>0.232193</td>\n",
       "      <td>0.144580</td>\n",
       "      <td>-0.006212</td>\n",
       "      <td>-0.213876</td>\n",
       "      <td>-0.303718</td>\n",
       "      <td>0.176082</td>\n",
       "      <td>0.254723</td>\n",
       "      <td>0.216492</td>\n",
       "      <td>-0.045539</td>\n",
       "      <td>0.129654</td>\n",
       "      <td>0.162797</td>\n",
       "      <td>0.270186</td>\n",
       "      <td>-0.231350</td>\n",
       "      <td>-0.074488</td>\n",
       "      <td>-0.058235</td>\n",
       "      <td>1.000000</td>\n",
       "      <td>0.267777</td>\n",
       "      <td>0.516376</td>\n",
       "    </tr>\n",
       "    <tr>\n",
       "      <th>MenHealth</th>\n",
       "      <td>0.037532</td>\n",
       "      <td>-0.151428</td>\n",
       "      <td>-0.084218</td>\n",
       "      <td>-0.060164</td>\n",
       "      <td>-0.168562</td>\n",
       "      <td>0.021639</td>\n",
       "      <td>0.014472</td>\n",
       "      <td>0.059940</td>\n",
       "      <td>0.027654</td>\n",
       "      <td>0.145651</td>\n",
       "      <td>0.053099</td>\n",
       "      <td>0.031782</td>\n",
       "      <td>-0.086176</td>\n",
       "      <td>-0.036260</td>\n",
       "      <td>-0.058036</td>\n",
       "      <td>0.267777</td>\n",
       "      <td>1.000000</td>\n",
       "      <td>0.311642</td>\n",
       "    </tr>\n",
       "    <tr>\n",
       "      <th>PhysHealth</th>\n",
       "      <td>0.172922</td>\n",
       "      <td>0.111619</td>\n",
       "      <td>-0.038019</td>\n",
       "      <td>-0.105636</td>\n",
       "      <td>-0.228096</td>\n",
       "      <td>0.114603</td>\n",
       "      <td>0.147257</td>\n",
       "      <td>0.102264</td>\n",
       "      <td>-0.034420</td>\n",
       "      <td>0.090949</td>\n",
       "      <td>0.137133</td>\n",
       "      <td>0.158792</td>\n",
       "      <td>-0.190155</td>\n",
       "      <td>-0.031992</td>\n",
       "      <td>-0.021568</td>\n",
       "      <td>0.516376</td>\n",
       "      <td>0.311642</td>\n",
       "      <td>1.000000</td>\n",
       "    </tr>\n",
       "  </tbody>\n",
       "</table>\n",
       "</div>"
      ],
      "text/plain": [
       "                     HeartDisease       Age       Sex  Education    Income   \n",
       "HeartDisease             1.000000  0.229607  0.084947  -0.061838 -0.106060  \\\n",
       "Age                      0.229607  1.000000 -0.041317  -0.030047 -0.072718   \n",
       "Sex                      0.084947 -0.041317  1.000000  -0.020611  0.114492   \n",
       "Education               -0.061838 -0.030047 -0.020611   1.000000  0.400087   \n",
       "Income                  -0.106060 -0.072718  0.114492   0.400087  1.000000   \n",
       "HighChol                 0.186037  0.300146  0.012746  -0.012498 -0.029019   \n",
       "HighBP                   0.206152  0.360444  0.050814  -0.075109 -0.101367   \n",
       "BMI                      0.036320 -0.018222  0.003942  -0.059862 -0.044609   \n",
       "HeavyAlcoholConsump     -0.038286 -0.059214  0.012306   0.031366  0.066779   \n",
       "Smoker                   0.020145 -0.094295  0.010663  -0.158912 -0.166727   \n",
       "Stroke                   0.195105  0.140383  0.007144  -0.051083 -0.109869   \n",
       "Diabetes                 0.172058  0.217921  0.032213  -0.086036 -0.124534   \n",
       "PhysicalActivity        -0.071736 -0.093445  0.036975   0.180337  0.181822   \n",
       "Vegetables              -0.007086  0.029683 -0.057577   0.109507  0.119903   \n",
       "Fruits                   0.009968  0.089220 -0.057681   0.070547  0.039937   \n",
       "GenHealth                0.232193  0.144580 -0.006212  -0.213876 -0.303718   \n",
       "MenHealth                0.037532 -0.151428 -0.084218  -0.060164 -0.168562   \n",
       "PhysHealth               0.172922  0.111619 -0.038019  -0.105636 -0.228096   \n",
       "\n",
       "                     HighChol    HighBP       BMI  HeavyAlcoholConsump   \n",
       "HeartDisease         0.186037  0.206152  0.036320            -0.038286  \\\n",
       "Age                  0.300146  0.360444 -0.018222            -0.059214   \n",
       "Sex                  0.012746  0.050814  0.003942             0.012306   \n",
       "Education           -0.012498 -0.075109 -0.059862             0.031366   \n",
       "Income              -0.029019 -0.101367 -0.044609             0.066779   \n",
       "HighChol             1.000000  0.300159  0.094126            -0.025008   \n",
       "HighBP               0.300159  1.000000  0.205674            -0.018015   \n",
       "BMI                  0.094126  0.205674  1.000000            -0.051091   \n",
       "HeavyAlcoholConsump -0.025008 -0.018015 -0.051091             1.000000   \n",
       "Smoker              -0.015576 -0.017352 -0.052419             0.093771   \n",
       "Stroke               0.098358  0.134510  0.007600            -0.028156   \n",
       "Diabetes             0.218521  0.269407  0.212403            -0.074995   \n",
       "PhysicalActivity    -0.052013 -0.092789 -0.120161             0.029284   \n",
       "Vegetables          -0.004058 -0.011803 -0.025162             0.025495   \n",
       "Fruits              -0.007554 -0.003887 -0.062540            -0.030981   \n",
       "GenHealth            0.176082  0.254723  0.216492            -0.045539   \n",
       "MenHealth            0.021639  0.014472  0.059940             0.027654   \n",
       "PhysHealth           0.114603  0.147257  0.102264            -0.034420   \n",
       "\n",
       "                       Smoker    Stroke  Diabetes  PhysicalActivity   \n",
       "HeartDisease         0.020145  0.195105  0.172058         -0.071736  \\\n",
       "Age                 -0.094295  0.140383  0.217921         -0.093445   \n",
       "Sex                  0.010663  0.007144  0.032213          0.036975   \n",
       "Education           -0.158912 -0.051083 -0.086036          0.180337   \n",
       "Income              -0.166727 -0.109869 -0.124534          0.181822   \n",
       "HighChol            -0.015576  0.098358  0.218521         -0.052013   \n",
       "HighBP              -0.017352  0.134510  0.269407         -0.092789   \n",
       "BMI                 -0.052419  0.007600  0.212403         -0.120161   \n",
       "HeavyAlcoholConsump  0.093771 -0.028156 -0.074995          0.029284   \n",
       "Smoker               1.000000  0.024099 -0.023957         -0.076531   \n",
       "Stroke               0.024099  1.000000  0.108042         -0.060930   \n",
       "Diabetes            -0.023957  0.108042  1.000000         -0.102249   \n",
       "PhysicalActivity    -0.076531 -0.060930 -0.102249          1.000000   \n",
       "Vegetables          -0.027412 -0.012770 -0.022898          0.106584   \n",
       "Fruits              -0.090881  0.007652 -0.008883          0.101466   \n",
       "GenHealth            0.129654  0.162797  0.270186         -0.231350   \n",
       "MenHealth            0.145651  0.053099  0.031782         -0.086176   \n",
       "PhysHealth           0.090949  0.137133  0.158792         -0.190155   \n",
       "\n",
       "                     Vegetables    Fruits  GenHealth  MenHealth  PhysHealth  \n",
       "HeartDisease          -0.007086  0.009968   0.232193   0.037532    0.172922  \n",
       "Age                    0.029683  0.089220   0.144580  -0.151428    0.111619  \n",
       "Sex                   -0.057577 -0.057681  -0.006212  -0.084218   -0.038019  \n",
       "Education              0.109507  0.070547  -0.213876  -0.060164   -0.105636  \n",
       "Income                 0.119903  0.039937  -0.303718  -0.168562   -0.228096  \n",
       "HighChol              -0.004058 -0.007554   0.176082   0.021639    0.114603  \n",
       "HighBP                -0.011803 -0.003887   0.254723   0.014472    0.147257  \n",
       "BMI                   -0.025162 -0.062540   0.216492   0.059940    0.102264  \n",
       "HeavyAlcoholConsump    0.025495 -0.030981  -0.045539   0.027654   -0.034420  \n",
       "Smoker                -0.027412 -0.090881   0.129654   0.145651    0.090949  \n",
       "Stroke                -0.012770  0.007652   0.162797   0.053099    0.137133  \n",
       "Diabetes              -0.022898 -0.008883   0.270186   0.031782    0.158792  \n",
       "PhysicalActivity       0.106584  0.101466  -0.231350  -0.086176   -0.190155  \n",
       "Vegetables             1.000000  0.206771  -0.074488  -0.036260   -0.031992  \n",
       "Fruits                 0.206771  1.000000  -0.058235  -0.058036   -0.021568  \n",
       "GenHealth             -0.074488 -0.058235   1.000000   0.267777    0.516376  \n",
       "MenHealth             -0.036260 -0.058036   0.267777   1.000000    0.311642  \n",
       "PhysHealth            -0.031992 -0.021568   0.516376   0.311642    1.000000  "
      ]
     },
     "execution_count": 7,
     "metadata": {},
     "output_type": "execute_result"
    }
   ],
   "source": [
    "#correlation between variables\n",
    "corr = brfss.corr(method='pearson')\n",
    "plt.imshow(corr, cmap='coolwarm', vmin=-1, vmax=1)\n",
    "plt.colorbar()\n",
    "labels = corr.columns\n",
    "plt.tick_params(axis='x', bottom=False, top=True, labelbottom=False, labeltop=True)\n",
    "plt.xticks(range(len(corr)), labels, rotation=90)\n",
    "plt.yticks(range(len(corr)), labels)\n",
    "plt.show()\n",
    "corr"
   ]
  },
  {
   "cell_type": "code",
   "execution_count": 8,
   "metadata": {},
   "outputs": [],
   "source": [
    "#after exploration, these are the features to be dropped\n",
    "#imbalanced target variable, will fix in the next section\n",
    "brfss['HeartDisease'].value_counts()\n",
    "brfss = brfss.drop('Education', axis=1)\n",
    "brfss = brfss.drop('PhysHealth', axis=1)\n",
    "brfss = brfss.drop('Fruits', axis=1)\n",
    "brfss = brfss.drop('Vegetables', axis=1)\n",
    "brfss = brfss.drop('MenHealth', axis=1)\n",
    "brfss = brfss.drop('HeavyAlcoholConsump', axis=1)\n",
    "brfss = brfss.drop('BMI', axis=1)\n",
    "brfss = brfss.drop('Smoker', axis=1)\n",
    "brfss = brfss.drop('PhysicalActivity', axis=1)"
   ]
  },
  {
   "cell_type": "markdown",
   "metadata": {},
   "source": [
    " ### Handling Imbalanced Classes Using RandomUnderSampling and SMOTE"
   ]
  },
  {
   "cell_type": "code",
   "execution_count": 9,
   "metadata": {},
   "outputs": [],
   "source": [
    "from sklearn.model_selection import train_test_split\n",
    "from collections import Counter\n",
    "from imblearn.over_sampling import SMOTE\n",
    "from imblearn.under_sampling import RandomUnderSampler\n",
    "from imblearn.pipeline import Pipeline\n",
    "from sklearn.model_selection import train_test_split"
   ]
  },
  {
   "cell_type": "code",
   "execution_count": 10,
   "metadata": {},
   "outputs": [],
   "source": [
    "#isolate the target variable\n",
    "X = brfss.drop('HeartDisease', axis=1)\n",
    "y = brfss['HeartDisease']"
   ]
  },
  {
   "cell_type": "code",
   "execution_count": 11,
   "metadata": {},
   "outputs": [],
   "source": [
    "#split the dataset, 90-10% between train and test\n",
    "X_train, X_test, y_train, y_test = train_test_split(X, y, test_size=0.1, random_state=101)"
   ]
  },
  {
   "cell_type": "code",
   "execution_count": 12,
   "metadata": {},
   "outputs": [
    {
     "data": {
      "text/plain": [
       "HeartDisease\n",
       "0.0    204278\n",
       "1.0     22769\n",
       "Name: count, dtype: int64"
      ]
     },
     "execution_count": 12,
     "metadata": {},
     "output_type": "execute_result"
    }
   ],
   "source": [
    "y.value_counts()"
   ]
  },
  {
   "cell_type": "code",
   "execution_count": 13,
   "metadata": {},
   "outputs": [
    {
     "name": "stdout",
     "output_type": "stream",
     "text": [
      "Counter({0.0: 183854, 1.0: 20488})\n"
     ]
    }
   ],
   "source": [
    "#class count for the target variable in the training set before sampling techniques\n",
    "counter = Counter(y_train)\n",
    "print(counter)"
   ]
  },
  {
   "cell_type": "code",
   "execution_count": 14,
   "metadata": {},
   "outputs": [],
   "source": [
    "#Random undersampler, ratio of 2:3 positive/negative\n",
    "under = RandomUnderSampler(sampling_strategy=0.7, random_state=101)\n",
    "X_train, y_train = under.fit_resample(X_train, y_train)"
   ]
  },
  {
   "cell_type": "code",
   "execution_count": 15,
   "metadata": {},
   "outputs": [],
   "source": [
    "# Chose not to use SMOTE and only used random undersampling, code still provided\n",
    "\n",
    "# pipeline for balancing -- random undersampling on majority class, smote on minority class\n",
    "# only performed on the training set\n",
    "# ratio is 1:1\n",
    "\n",
    "# over = SMOTE(sampling_strategy=0.5, random_state=101)\n",
    "# under = RandomUnderSampler(sampling_strategy=1, random_state=101)\n",
    "# steps = [('over', over), ('under', under)]\n",
    "# pipeline = Pipeline(steps=steps)\n",
    "# X_train, y_train = pipeline.fit_resample(X_train, y_train)"
   ]
  },
  {
   "cell_type": "code",
   "execution_count": 16,
   "metadata": {},
   "outputs": [
    {
     "name": "stdout",
     "output_type": "stream",
     "text": [
      "Counter({0.0: 29268, 1.0: 20488})\n"
     ]
    }
   ],
   "source": [
    "#count for target variable after sampling techniques applied\n",
    "counter = Counter(y_train)\n",
    "print(counter)"
   ]
  },
  {
   "cell_type": "code",
   "execution_count": 17,
   "metadata": {},
   "outputs": [
    {
     "name": "stdout",
     "output_type": "stream",
     "text": [
      "Counter({0.0: 20424, 1.0: 2281})\n"
     ]
    }
   ],
   "source": [
    "#count for target variable in the test set\n",
    "#still imbalanced because we are not balancing test data\n",
    "counter = Counter(y_test)\n",
    "print(counter)"
   ]
  },
  {
   "cell_type": "markdown",
   "metadata": {},
   "source": [
    "### Logistic Regression"
   ]
  },
  {
   "cell_type": "code",
   "execution_count": 18,
   "metadata": {},
   "outputs": [],
   "source": [
    "from sklearn.linear_model import LogisticRegression\n",
    "from sklearn.model_selection import RandomizedSearchCV\n",
    "from sklearn.model_selection import cross_val_score\n",
    "from sklearn import metrics\n",
    "from sklearn.metrics import accuracy_score, confusion_matrix, classification_report\n",
    "from sklearn.metrics import precision_score, recall_score, f1_score\n",
    "import time "
   ]
  },
  {
   "cell_type": "code",
   "execution_count": 19,
   "metadata": {},
   "outputs": [
    {
     "data": {
      "text/plain": [
       "{'solver': ['newton-cg', 'lbfgs', 'liblinear', 'saga'],\n",
       " 'penalty': ['none', 'l1', 'l2', 'elasticnet'],\n",
       " 'C': array([1.00000000e+00, 2.78255940e+00, 7.74263683e+00, 2.15443469e+01,\n",
       "        5.99484250e+01, 1.66810054e+02, 4.64158883e+02, 1.29154967e+03,\n",
       "        3.59381366e+03, 1.00000000e+04])}"
      ]
     },
     "execution_count": 19,
     "metadata": {},
     "output_type": "execute_result"
    }
   ],
   "source": [
    "#parameters for Randomized Search Cross Validation for logistic regression\n",
    "param_log = dict()\n",
    "param_log['solver'] = ['newton-cg', 'lbfgs', 'liblinear', 'saga']\n",
    "param_log['penalty'] = ['none', 'l1', 'l2', 'elasticnet']\n",
    "param_log['C'] = np.logspace(0, 4, num=10)\n",
    "param_log"
   ]
  },
  {
   "cell_type": "code",
   "execution_count": 20,
   "metadata": {},
   "outputs": [],
   "source": [
    "#create classifier\n",
    "logr = LogisticRegression()\n",
    "#create randomized search, 250 iterations and 5-folds for CV\n",
    "search_logr = RandomizedSearchCV(logr,\n",
    "                            param_log,\n",
    "                            n_iter=250,\n",
    "                            scoring='accuracy',\n",
    "                            cv=5,\n",
    "                            n_jobs=-1,\n",
    "                            random_state=101)\n",
    "#fit the search to see which params are good\n",
    "result_logr = search_logr.fit(X_train, y_train)"
   ]
  },
  {
   "cell_type": "code",
   "execution_count": 21,
   "metadata": {},
   "outputs": [
    {
     "name": "stdout",
     "output_type": "stream",
     "text": [
      "0.75355742333576\n",
      "{'solver': 'newton-cg', 'penalty': 'l2', 'C': 2.7825594022071245}\n"
     ]
    }
   ],
   "source": [
    "print(result_logr.best_score_)\n",
    "print(result_logr.best_params_)"
   ]
  },
  {
   "cell_type": "code",
   "execution_count": 22,
   "metadata": {},
   "outputs": [
    {
     "name": "stdout",
     "output_type": "stream",
     "text": [
      "[0.75442122 0.74799035 0.75442122 0.74919614 0.7596463  0.75221061\n",
      " 0.75557789 0.74773869 0.75879397 0.75698492]\n",
      "the mean is: 0.7536981329476967\n",
      "the std is: 0.004090290732705805\n"
     ]
    }
   ],
   "source": [
    "#Create new model with the best params from the randomizedsearch\n",
    "log_model = LogisticRegression(solver='newton-cg', \n",
    "                                penalty = 'l2', \n",
    "                                C = 2.7825594022071245)\n",
    "#evaluate how the model will perform using 10-fold cross validation\n",
    "kfolds_logr = cross_val_score(log_model,\n",
    "                         X_train,\n",
    "                         y_train,\n",
    "                         cv = 10,\n",
    "                         scoring='accuracy')\n",
    "#show the scores, the mean on the kfolds, and the std for logistic regression\n",
    "#this will tell us how stable the model is \n",
    "print(kfolds_logr)\n",
    "print(\"the mean is:\", kfolds_logr.mean())\n",
    "print(\"the std is:\", kfolds_logr.std())"
   ]
  },
  {
   "cell_type": "code",
   "execution_count": 23,
   "metadata": {},
   "outputs": [],
   "source": [
    "#fit the model and time it\n",
    "start_logr = time.time()\n",
    "log_model.fit(X_train, y_train)\n",
    "stop_logr = time.time()"
   ]
  },
  {
   "cell_type": "code",
   "execution_count": 24,
   "metadata": {},
   "outputs": [],
   "source": [
    "#predict on the fitted model\n",
    "predicted_log = log_model.predict(X_test)"
   ]
  },
  {
   "cell_type": "code",
   "execution_count": 25,
   "metadata": {},
   "outputs": [
    {
     "name": "stdout",
     "output_type": "stream",
     "text": [
      "Confusion Matrix for Logistic Regression: \n",
      " [[16449  3975]\n",
      " [  745  1536]]\n",
      "TP:  1536 , FP:  3975 , TN:  16449 , FN: 745\n",
      "\n",
      " Metrics for Logistic Regression: \n",
      "\n",
      "Accuracy_LogisticReg: 0.7921162739484695\n",
      "Precision_LogisticReg: 0.27871529667936856\n",
      "Recall_LogisticReg: 0.6733888645330995\n",
      "F1 Score_LogisticReg: 0.3942505133470226\n",
      "\n",
      " Classification Report for Logistic Regression:\n",
      "              precision    recall  f1-score   support\n",
      "\n",
      "         0.0       0.96      0.81      0.87     20424\n",
      "         1.0       0.28      0.67      0.39      2281\n",
      "\n",
      "    accuracy                           0.79     22705\n",
      "   macro avg       0.62      0.74      0.63     22705\n",
      "weighted avg       0.89      0.79      0.83     22705\n",
      "\n",
      "\n",
      " Logistic Regression Training Time: 0.1411592960357666s\n"
     ]
    }
   ],
   "source": [
    "#Confusion Matrix\n",
    "cm = metrics.confusion_matrix\n",
    "cm_logr = cm(y_test, predicted_log)\n",
    "tn, fp, fn, tp= cm_logr.ravel()\n",
    "print(\"Confusion Matrix for Logistic Regression:\", '\\n', cm_logr)\n",
    "print(\"TP: \", tp,\", FP: \", fp,\", TN: \", tn,\", FN:\", fn)\n",
    "\n",
    "#Metrics for Logistc Regression\n",
    "accuracy_logr = accuracy_score(y_test, predicted_log)\n",
    "precision_logr = precision_score(y_test, predicted_log, pos_label=1.0)\n",
    "recall_logr = recall_score(y_test, predicted_log, pos_label=1.0)\n",
    "f1_logr = f1_score(y_test, predicted_log, pos_label=1.0)\n",
    "print('\\n', \"Metrics for Logistic Regression:\", '\\n')\n",
    "print(\"Accuracy_LogisticReg:\", accuracy_logr)\n",
    "print(\"Precision_LogisticReg:\", precision_logr)\n",
    "print(\"Recall_LogisticReg:\", recall_logr)\n",
    "print(\"F1 Score_LogisticReg:\", f1_logr)\n",
    "\n",
    "#Classification Report\n",
    "print('\\n', \"Classification Report for Logistic Regression:\")\n",
    "print(classification_report(y_test, predicted_log))\n",
    "\n",
    "#Time to complete the model fitting\n",
    "print('\\n', f\"Logistic Regression Training Time: {stop_logr - start_logr}s\")"
   ]
  },
  {
   "cell_type": "markdown",
   "metadata": {},
   "source": [
    "### K-Nearest Neighbors"
   ]
  },
  {
   "cell_type": "code",
   "execution_count": 26,
   "metadata": {},
   "outputs": [],
   "source": [
    "from sklearn.neighbors import KNeighborsClassifier"
   ]
  },
  {
   "cell_type": "code",
   "execution_count": 27,
   "metadata": {},
   "outputs": [
    {
     "data": {
      "text/plain": [
       "{'n_neighbors': range(1, 500), 'weights': ['uniform', 'distance']}"
      ]
     },
     "execution_count": 27,
     "metadata": {},
     "output_type": "execute_result"
    }
   ],
   "source": [
    "#parameters for KNN randomized search\n",
    "param_knn = dict()\n",
    "param_knn['n_neighbors'] = range(1, 500)\n",
    "param_knn['weights'] = ['uniform', 'distance']\n",
    "param_knn"
   ]
  },
  {
   "cell_type": "code",
   "execution_count": 28,
   "metadata": {},
   "outputs": [],
   "source": [
    "#Create the classifier\n",
    "knn = KNeighborsClassifier()\n",
    "#Randomized search, 5-fold CV, and 50 interations between 1-500 neighbors\n",
    "search_knn = RandomizedSearchCV(knn, \n",
    "                        param_knn,\n",
    "                        n_iter=50,\n",
    "                        cv=5, \n",
    "                        scoring='accuracy', \n",
    "                        n_jobs=-1, \n",
    "                        random_state=101)\n",
    "#fit the search\n",
    "result_knn = search_knn.fit(X_train, y_train)"
   ]
  },
  {
   "cell_type": "code",
   "execution_count": 29,
   "metadata": {},
   "outputs": [
    {
     "name": "stdout",
     "output_type": "stream",
     "text": [
      "0.7440509864897484\n",
      "{'weights': 'uniform', 'n_neighbors': 366}\n"
     ]
    }
   ],
   "source": [
    "print(result_knn.best_score_)\n",
    "print(result_knn.best_params_)"
   ]
  },
  {
   "cell_type": "code",
   "execution_count": 30,
   "metadata": {},
   "outputs": [
    {
     "name": "stdout",
     "output_type": "stream",
     "text": [
      "[0.7465836  0.73593248 0.73593248 0.73834405 0.75080386 0.74457395\n",
      " 0.7481407  0.73668342 0.75316583 0.74914573]\n",
      "the mean is: 0.743930609639839\n",
      "the std is: 0.0062974372850959645\n"
     ]
    }
   ],
   "source": [
    "#create new model with best params \n",
    "knn_model = KNeighborsClassifier(n_neighbors=366, \n",
    "                                 weights='uniform')\n",
    "#evaluate best params KNN model with 10-fold cross validation\n",
    "kfolds_knn = cross_val_score(knn_model, \n",
    "                        X_train, \n",
    "                        y_train, \n",
    "                        cv=10, \n",
    "                        scoring='accuracy')\n",
    "#scores, mean and std for KNN \n",
    "print(kfolds_knn)\n",
    "print(\"the mean is:\", kfolds_knn.mean())\n",
    "print(\"the std is:\", kfolds_knn.std())"
   ]
  },
  {
   "cell_type": "code",
   "execution_count": 31,
   "metadata": {},
   "outputs": [],
   "source": [
    "#fit the final model and time it \n",
    "start_knn = time.time()\n",
    "knn_model.fit(X_train, y_train)\n",
    "stop_knn = time.time()"
   ]
  },
  {
   "cell_type": "code",
   "execution_count": 32,
   "metadata": {},
   "outputs": [],
   "source": [
    "#predict on the test set with KNN model\n",
    "predicted_knn = knn_model.predict(X_test)"
   ]
  },
  {
   "cell_type": "code",
   "execution_count": 33,
   "metadata": {},
   "outputs": [
    {
     "name": "stdout",
     "output_type": "stream",
     "text": [
      "Confusion Matrix for K-Nearest Neighbors: \n",
      " [[16411  4013]\n",
      " [  804  1477]]\n",
      "TP:  1477 , FP:  4013 , TN:  16411 , FN: 804\n",
      "\n",
      " Metrics for KNN: \n",
      "\n",
      "Accuracy_KNN: 0.7878440872054614\n",
      "Precision_KNN: 0.26903460837887067\n",
      "Recall_KNN: 0.6475230162209558\n",
      "F1 Score_KNN: 0.3801312572384507\n",
      "\n",
      " Classification Report:\n",
      "              precision    recall  f1-score   support\n",
      "\n",
      "         0.0       0.95      0.80      0.87     20424\n",
      "         1.0       0.27      0.65      0.38      2281\n",
      "\n",
      "    accuracy                           0.79     22705\n",
      "   macro avg       0.61      0.73      0.63     22705\n",
      "weighted avg       0.88      0.79      0.82     22705\n",
      "\n",
      "\n",
      " K-Nearest Neighbors Training Time: 0.08133554458618164s\n"
     ]
    }
   ],
   "source": [
    "#Confusion Matrix\n",
    "cm = metrics.confusion_matrix\n",
    "cm_knn = cm(y_test, predicted_knn)\n",
    "tn2, fp2, fn2, tp2 = cm_knn.ravel()\n",
    "print(\"Confusion Matrix for K-Nearest Neighbors:\", '\\n', cm_knn)\n",
    "print(\"TP: \", tp2,\", FP: \", fp2,\", TN: \", tn2,\", FN:\", fn2)\n",
    "\n",
    "#Metrics for KNN\n",
    "accuracy_knn = accuracy_score(y_test, predicted_knn)\n",
    "precision_knn = precision_score(y_test, predicted_knn, pos_label=1.0)\n",
    "recall_knn = recall_score(y_test, predicted_knn, pos_label=1.0)\n",
    "f1_knn = f1_score(y_test, predicted_knn, pos_label=1.0)\n",
    "print('\\n', \"Metrics for KNN:\", '\\n')\n",
    "print(\"Accuracy_KNN:\", accuracy_knn)\n",
    "print(\"Precision_KNN:\", precision_knn)\n",
    "print(\"Recall_KNN:\", recall_knn)\n",
    "print(\"F1 Score_KNN:\", f1_knn)\n",
    "\n",
    "#Classification Report\n",
    "print('\\n', \"Classification Report:\")\n",
    "print(classification_report(y_test, predicted_knn))\n",
    "\n",
    "#Time to fit the model\n",
    "print('\\n', f\"K-Nearest Neighbors Training Time: {stop_knn - start_knn}s\")"
   ]
  },
  {
   "cell_type": "markdown",
   "metadata": {},
   "source": [
    "### Support Vector Machines"
   ]
  },
  {
   "cell_type": "code",
   "execution_count": 34,
   "metadata": {},
   "outputs": [],
   "source": [
    "from sklearn.svm import SVC"
   ]
  },
  {
   "cell_type": "code",
   "execution_count": 35,
   "metadata": {},
   "outputs": [],
   "source": [
    "# Tried many different combinations of iterarions and folds, but time to complete was too long (45+ mins)\n",
    "# Most likely due to a SVM not being very good with large datasets\n",
    "# Manually tried parameter tuning to find a good one \n",
    "# Code for RandomizedSearch still included \n",
    "\n",
    "# Parameters for SVM randomized search\n",
    "# param_svm = dict()\n",
    "# param_svm['C'] = [0.01, 0.1, 1, 10, 100, 1000]\n",
    "# param_svm['kernel'] = ['linear'] #linear only kernels to save computation time  \n",
    "# param_svm['gamma'] = ['scale', 'auto']\n",
    "# param_svm\n",
    "\n",
    "# #Create new classifier\n",
    "# svm = SVC()\n",
    "\n",
    "# #Randomized search with 10 iterations, 5-fold CV \n",
    "# search_svm = RandomizedSearchCV(svm, \n",
    "#                                 param_svm,\n",
    "#                                 n_iter=5, \n",
    "#                                 cv=3,\n",
    "#                                 scoring='accuracy',\n",
    "#                                 n_jobs=-1, \n",
    "#                                 random_state=101) \n",
    "# #fit SVM search\n",
    "# result_svm = search_svm.fit(X_train, y_train)\n",
    "\n",
    "# #best params and scores for SVM\n",
    "# print(result_svm.best_score_)\n",
    "# print(result_svm.best_params_)"
   ]
  },
  {
   "cell_type": "code",
   "execution_count": 36,
   "metadata": {},
   "outputs": [
    {
     "name": "stdout",
     "output_type": "stream",
     "text": [
      "[0.76004823 0.74799035 0.75221061 0.74919614 0.75803859 0.75422026\n",
      " 0.75798995 0.75175879 0.76341709 0.76341709]\n",
      "the mean is: 0.7558287094637175\n",
      "the std is: 0.005293378156523944\n"
     ]
    }
   ],
   "source": [
    "#create new model with best params \n",
    "svm_model = SVC(C=1.0, \n",
    "            kernel='rbf', \n",
    "            gamma='scale')\n",
    "#evaluate best params SVM model with 10-fold cross validation\n",
    "kfolds_svm = cross_val_score(svm_model, \n",
    "                        X_train, \n",
    "                        y_train, \n",
    "                        cv=10, \n",
    "                        scoring='accuracy',\n",
    "                        n_jobs=-1)\n",
    "#scores, mean and std for SVM\n",
    "print(kfolds_svm)\n",
    "print(\"the mean is:\", kfolds_svm.mean())\n",
    "print(\"the std is:\", kfolds_svm.std())"
   ]
  },
  {
   "cell_type": "code",
   "execution_count": 37,
   "metadata": {},
   "outputs": [],
   "source": [
    "#fit the final model and time it\n",
    "start_svm = time.time()\n",
    "svm_model.fit(X_train, y_train)\n",
    "stop_svm = time.time()"
   ]
  },
  {
   "cell_type": "code",
   "execution_count": 38,
   "metadata": {},
   "outputs": [],
   "source": [
    "#predict the new SVM model \n",
    "predicted_svm = svm_model.predict(X_test)"
   ]
  },
  {
   "cell_type": "code",
   "execution_count": 39,
   "metadata": {},
   "outputs": [
    {
     "name": "stdout",
     "output_type": "stream",
     "text": [
      "Confusion Matrix for Support Vector Machines: \n",
      " [[16125  4299]\n",
      " [  687  1594]]\n",
      "TP:  1594 , FP:  4299 , TN:  16125 , FN: 687\n",
      "\n",
      " Metrics for SVM: \n",
      "\n",
      "Accuracy_SVM: 0.7804007927769214\n",
      "Precision_SVM: 0.2704904123536399\n",
      "Recall_SVM: 0.698816308636563\n",
      "F1 Score_SVM: 0.3900171274773673\n",
      "\n",
      " Classification Report:\n",
      "              precision    recall  f1-score   support\n",
      "\n",
      "         0.0       0.96      0.79      0.87     20424\n",
      "         1.0       0.27      0.70      0.39      2281\n",
      "\n",
      "    accuracy                           0.78     22705\n",
      "   macro avg       0.61      0.74      0.63     22705\n",
      "weighted avg       0.89      0.78      0.82     22705\n",
      "\n",
      "\n",
      " Support Vector Machines Training Time: 40.5010507106781s\n"
     ]
    }
   ],
   "source": [
    "#Confusion Matrix\n",
    "cm = metrics.confusion_matrix\n",
    "cm_svm = cm(y_test, predicted_svm)\n",
    "tn3, fp3, fn3, tp3 = cm_svm.ravel()\n",
    "print(\"Confusion Matrix for Support Vector Machines:\", '\\n', cm_svm)\n",
    "print(\"TP: \", tp3,\", FP: \", fp3,\", TN: \", tn3,\", FN:\", fn3)\n",
    "\n",
    "#Metrics for SVM\n",
    "accuracy_svm = accuracy_score(y_test, predicted_svm)\n",
    "precision_svm = precision_score(y_test, predicted_svm, pos_label=1.0)\n",
    "recall_svm = recall_score(y_test, predicted_svm, pos_label=1.0)\n",
    "f1_svm = f1_score(y_test, predicted_svm, pos_label=1.0)\n",
    "print('\\n', \"Metrics for SVM:\", '\\n')\n",
    "print(\"Accuracy_SVM:\", accuracy_svm)\n",
    "print(\"Precision_SVM:\", precision_svm)\n",
    "print(\"Recall_SVM:\", recall_svm)\n",
    "print(\"F1 Score_SVM:\", f1_svm)\n",
    "\n",
    "#Classification Report\n",
    "print('\\n', \"Classification Report:\")\n",
    "print(classification_report(y_test, predicted_svm))\n",
    "\n",
    "#Time to fit the model\n",
    "print('\\n', f\"Support Vector Machines Training Time: {stop_svm - start_svm}s\")"
   ]
  },
  {
   "cell_type": "markdown",
   "metadata": {},
   "source": [
    "### Random Forests"
   ]
  },
  {
   "cell_type": "code",
   "execution_count": 40,
   "metadata": {},
   "outputs": [],
   "source": [
    "from sklearn.ensemble import RandomForestClassifier"
   ]
  },
  {
   "cell_type": "code",
   "execution_count": 41,
   "metadata": {},
   "outputs": [
    {
     "data": {
      "text/plain": [
       "{'bootstrap': [True, False],\n",
       " 'max_depth': [10, 20, 30, 40, 50, 60, 70, 80, 90, 100, None],\n",
       " 'max_features': ['auto', 'sqrt'],\n",
       " 'min_samples_leaf': [1, 2, 4],\n",
       " 'min_samples_split': [2, 5, 10],\n",
       " 'n_estimators': [10, 50, 100, 200, 400, 600, 800, 1000]}"
      ]
     },
     "execution_count": 41,
     "metadata": {},
     "output_type": "execute_result"
    }
   ],
   "source": [
    "#Parameters for Random Forest search\n",
    "param_rf = dict()\n",
    "param_rf['bootstrap'] = [True, False]\n",
    "param_rf['max_depth'] = [10, 20, 30, 40, 50, 60, 70, 80, 90, 100, None]\n",
    "param_rf['max_features'] = ['auto', 'sqrt']\n",
    "param_rf['min_samples_leaf'] = [1, 2, 4]\n",
    "param_rf['min_samples_split'] = [2, 5, 10]\n",
    "param_rf['n_estimators'] =  [10, 50, 100, 200, 400, 600, 800, 1000]\n",
    "param_rf"
   ]
  },
  {
   "cell_type": "code",
   "execution_count": 42,
   "metadata": {},
   "outputs": [],
   "source": [
    "#Create new classifier for RF\n",
    "rf = RandomForestClassifier()\n",
    "#Randomized search with 75 iterations, 5-fold CV \n",
    "search_rf = RandomizedSearchCV(rf, \n",
    "                                param_rf,\n",
    "                                n_iter=75, \n",
    "                                cv=5,\n",
    "                                scoring='accuracy',\n",
    "                                n_jobs=-1, \n",
    "                                random_state=101) \n",
    "#fit Random Forest search\n",
    "result_rf = search_rf.fit(X_train, y_train)"
   ]
  },
  {
   "cell_type": "code",
   "execution_count": 43,
   "metadata": {},
   "outputs": [
    {
     "name": "stdout",
     "output_type": "stream",
     "text": [
      "0.7548637116081015\n",
      "{'n_estimators': 400, 'min_samples_split': 10, 'min_samples_leaf': 2, 'max_features': 'sqrt', 'max_depth': 10, 'bootstrap': False}\n"
     ]
    }
   ],
   "source": [
    "#best params for Random Forests\n",
    "print(result_rf.best_score_)\n",
    "print(result_rf.best_params_)"
   ]
  },
  {
   "cell_type": "code",
   "execution_count": 44,
   "metadata": {},
   "outputs": [
    {
     "name": "stdout",
     "output_type": "stream",
     "text": [
      "[0.75602894 0.75261254 0.75080386 0.74979904 0.75924437 0.75663183\n",
      " 0.75577889 0.75075377 0.76201005 0.75738693]\n",
      "the mean is: 0.7551050227019341\n",
      "the std is: 0.003813908965483143\n"
     ]
    }
   ],
   "source": [
    "#create new RF model with best params \n",
    "rf_model = RandomForestClassifier(n_estimators = 400, \n",
    "                                  min_samples_split = 10, \n",
    "                                  min_samples_leaf = 2, \n",
    "                                  max_features = 'sqrt', \n",
    "                                  max_depth = 10, \n",
    "                                  bootstrap = False)\n",
    "#evaluate best params RF model with 10-fold cross validation\n",
    "kfolds_rf = cross_val_score(rf_model, \n",
    "                        X_train, \n",
    "                        y_train, \n",
    "                        cv=10, \n",
    "                        scoring='accuracy',\n",
    "                        n_jobs=-1)\n",
    "#scores, mean and std for RF\n",
    "print(kfolds_rf)\n",
    "print(\"the mean is:\", kfolds_rf.mean())\n",
    "print(\"the std is:\", kfolds_rf.std())"
   ]
  },
  {
   "cell_type": "code",
   "execution_count": 45,
   "metadata": {},
   "outputs": [],
   "source": [
    "#fit the model and time it \n",
    "start_rf = time.time()\n",
    "rf_model.fit(X_train, y_train)\n",
    "stop_rf = time.time()"
   ]
  },
  {
   "cell_type": "code",
   "execution_count": 46,
   "metadata": {},
   "outputs": [],
   "source": [
    "#predict on the RF model\n",
    "predicted_rf = rf_model.predict(X_test)"
   ]
  },
  {
   "cell_type": "code",
   "execution_count": 47,
   "metadata": {},
   "outputs": [
    {
     "name": "stdout",
     "output_type": "stream",
     "text": [
      "Confusion Matrix for Random Forest Classifier: \n",
      " [[16201  4223]\n",
      " [  679  1602]]\n",
      "TP:  1602 , FP:  4223 , TN:  16201 , FN: 679\n",
      "\n",
      " Metrics for Random Forests: \n",
      "\n",
      "Accuracy_RF: 0.7841004184100419\n",
      "Precision_RF: 0.2750214592274678\n",
      "Recall_RF: 0.7023235423060061\n",
      "F1 Score_RF: 0.39526276831976315\n",
      "\n",
      " Classification Report:\n",
      "              precision    recall  f1-score   support\n",
      "\n",
      "         0.0       0.96      0.79      0.87     20424\n",
      "         1.0       0.28      0.70      0.40      2281\n",
      "\n",
      "    accuracy                           0.78     22705\n",
      "   macro avg       0.62      0.75      0.63     22705\n",
      "weighted avg       0.89      0.78      0.82     22705\n",
      "\n",
      "\n",
      "  Random Forests Training Time: 7.285680770874023s\n"
     ]
    }
   ],
   "source": [
    "#Confusion Matrix\n",
    "cm = metrics.confusion_matrix\n",
    "cm_rf = cm(y_test, predicted_rf)\n",
    "tn4, fp4, fn4, tp4 = cm_rf.ravel()\n",
    "print(\"Confusion Matrix for Random Forest Classifier:\", '\\n', cm_rf)\n",
    "print(\"TP: \", tp4,\", FP: \", fp4,\", TN: \", tn4,\", FN:\", fn4)\n",
    "\n",
    "#Metrics for Random Forest\n",
    "accuracy_rf = accuracy_score(y_test, predicted_rf)\n",
    "precision_rf = precision_score(y_test, predicted_rf, pos_label=1.0)\n",
    "recall_rf = recall_score(y_test, predicted_rf, pos_label=1.0)\n",
    "f1_rf = f1_score(y_test, predicted_rf, pos_label=1.0)\n",
    "print('\\n', \"Metrics for Random Forests:\", '\\n')\n",
    "print(\"Accuracy_RF:\", accuracy_rf)\n",
    "print(\"Precision_RF:\", precision_rf)\n",
    "print(\"Recall_RF:\", recall_rf)\n",
    "print(\"F1 Score_RF:\", f1_rf)\n",
    "\n",
    "#Classification Report\n",
    "print('\\n', \"Classification Report:\")\n",
    "print(classification_report(y_test, predicted_rf))\n",
    "\n",
    "#Time it took to fit the model\n",
    "print('\\n', f\" Random Forests Training Time: {stop_rf - start_rf}s\")"
   ]
  },
  {
   "cell_type": "markdown",
   "metadata": {},
   "source": [
    "### XGBoost"
   ]
  },
  {
   "cell_type": "code",
   "execution_count": 48,
   "metadata": {},
   "outputs": [],
   "source": [
    "from xgboost import XGBClassifier"
   ]
  },
  {
   "cell_type": "code",
   "execution_count": 49,
   "metadata": {},
   "outputs": [
    {
     "data": {
      "text/plain": [
       "{'learning_rate': [0.0001, 0.001, 0.01, 0.1, 1],\n",
       " 'max_depth': range(3, 21, 3),\n",
       " 'gamma': [0.0, 0.1, 0.2, 0.3, 0.4],\n",
       " 'reg_alpha': [0.001, 0.01, 0.1, 1, 10, 100],\n",
       " 'reg_lambda': [0.001, 0.01, 0.1, 1, 10, 100],\n",
       " 'colsample_bytree': [0.3, 0.4, 0.5, 0.6, 0.7, 0.8, 0.9]}"
      ]
     },
     "execution_count": 49,
     "metadata": {},
     "output_type": "execute_result"
    }
   ],
   "source": [
    "#Parameters for XGBoost\n",
    "param_xgb = dict()\n",
    "param_xgb['learning_rate'] = [0.0001, 0.001, 0.01, 0.1, 1]\n",
    "param_xgb['max_depth'] = range(3, 21, 3)\n",
    "param_xgb['gamma'] = [0.0, 0.1, 0.2, 0.3, 0.4]\n",
    "param_xgb['reg_alpha'] =[0.001, 0.01, 0.1, 1, 10, 100]\n",
    "param_xgb['reg_lambda'] = [0.001, 0.01, 0.1, 1, 10, 100]\n",
    "param_xgb['colsample_bytree'] = [0.3, 0.4, 0.5, 0.6, 0.7, 0.8, 0.9]\n",
    "param_xgb"
   ]
  },
  {
   "cell_type": "code",
   "execution_count": 50,
   "metadata": {},
   "outputs": [],
   "source": [
    "#Create new classifier for XGBoost and set random state\n",
    "xgb = XGBClassifier(random_state=101)\n",
    "#Randomized search with 250 iterations, 5-fold CV \n",
    "search_xgb = RandomizedSearchCV(xgb, \n",
    "                                param_xgb,\n",
    "                                n_iter=250, \n",
    "                                cv=5,\n",
    "                                scoring='accuracy',\n",
    "                                n_jobs=-1, \n",
    "                                random_state=101) \n",
    "#fit XGBoost search\n",
    "result_xgb = search_xgb.fit(X_train, y_train)"
   ]
  },
  {
   "cell_type": "code",
   "execution_count": 51,
   "metadata": {},
   "outputs": [
    {
     "name": "stdout",
     "output_type": "stream",
     "text": [
      "0.7570745386315777\n",
      "{'reg_lambda': 0.01, 'reg_alpha': 0.01, 'max_depth': 3, 'learning_rate': 0.1, 'gamma': 0.4, 'colsample_bytree': 0.9}\n"
     ]
    }
   ],
   "source": [
    "#best params for XGBoost\n",
    "print(result_xgb.best_score_)\n",
    "print(result_xgb.best_params_)"
   ]
  },
  {
   "cell_type": "code",
   "execution_count": 52,
   "metadata": {},
   "outputs": [
    {
     "name": "stdout",
     "output_type": "stream",
     "text": [
      "[0.75904341 0.75180868 0.75361736 0.75221061 0.76145498 0.75602894\n",
      " 0.76301508 0.74854271 0.76241206 0.75718593]\n",
      "the mean is: 0.7565319766032735\n",
      "the std is: 0.0047025201394785\n"
     ]
    }
   ],
   "source": [
    "#create new boosted model with best params \n",
    "xgb_model = XGBClassifier(reg_lambda=0.01, \n",
    "                          reg_alpha=0.01, \n",
    "                          max_depth=3, \n",
    "                          learning_rate=0.1, \n",
    "                          gamma=0.4, \n",
    "                          colsample_bytree=0.9)\n",
    "#evaluate best params for boosted model with 10-fold cross validation\n",
    "kfolds_xgb = cross_val_score(xgb_model, \n",
    "                        X_train, \n",
    "                        y_train, \n",
    "                        cv=10, \n",
    "                        scoring='accuracy',\n",
    "                        n_jobs=-1)\n",
    "#scores, mean and std for boosted model\n",
    "print(kfolds_xgb)\n",
    "print(\"the mean is:\", kfolds_xgb.mean())\n",
    "print(\"the std is:\", kfolds_xgb.std())"
   ]
  },
  {
   "cell_type": "code",
   "execution_count": 53,
   "metadata": {},
   "outputs": [],
   "source": [
    "#fit the model and time it \n",
    "start_xgb = time.time()\n",
    "xgb_model.fit(X_train, y_train)\n",
    "stop_xgb = time.time()"
   ]
  },
  {
   "cell_type": "code",
   "execution_count": 54,
   "metadata": {},
   "outputs": [],
   "source": [
    "#predict on the XGBoost model\n",
    "predicted_xgb = xgb_model.predict(X_test)"
   ]
  },
  {
   "cell_type": "code",
   "execution_count": 55,
   "metadata": {},
   "outputs": [
    {
     "name": "stdout",
     "output_type": "stream",
     "text": [
      "Confusion Matrix for XGBoost: \n",
      " [[16061  4363]\n",
      " [  656  1625]]\n",
      "TP:  1625 , FP:  4363 , TN:  16061 , FN: 656\n",
      "\n",
      " Metrics for XGBoosts: \n",
      "\n",
      "Accuracy_XGB: 0.7789473684210526\n",
      "Precision_XGB: 0.271376085504342\n",
      "Recall_XGB: 0.7124068391056554\n",
      "F1 Score_XGB: 0.39303422421090817\n",
      "\n",
      " Classification Report:\n",
      "              precision    recall  f1-score   support\n",
      "\n",
      "         0.0       0.96      0.79      0.86     20424\n",
      "         1.0       0.27      0.71      0.39      2281\n",
      "\n",
      "    accuracy                           0.78     22705\n",
      "   macro avg       0.62      0.75      0.63     22705\n",
      "weighted avg       0.89      0.78      0.82     22705\n",
      "\n",
      "\n",
      "  XGBoost Training Time: 0.10937857627868652s\n"
     ]
    }
   ],
   "source": [
    "#Confusion Matrix\n",
    "cm = metrics.confusion_matrix\n",
    "cm_xgb = cm(y_test, predicted_xgb)\n",
    "tn5, fp5, fn5, tp5 = cm_xgb.ravel()\n",
    "print(\"Confusion Matrix for XGBoost:\", '\\n', cm_xgb)\n",
    "print(\"TP: \", tp5,\", FP: \", fp5,\", TN: \", tn5,\", FN:\", fn5)\n",
    "\n",
    "#Metrics for XGBoost\n",
    "accuracy_xgb = accuracy_score(y_test, predicted_xgb)\n",
    "precision_xgb = precision_score(y_test, predicted_xgb, pos_label=1.0)\n",
    "recall_xgb = recall_score(y_test, predicted_xgb, pos_label=1.0)\n",
    "f1_xgb = f1_score(y_test, predicted_xgb, pos_label=1.0)\n",
    "print('\\n', \"Metrics for XGBoosts:\", '\\n')\n",
    "print(\"Accuracy_XGB:\", accuracy_xgb)\n",
    "print(\"Precision_XGB:\", precision_xgb)\n",
    "print(\"Recall_XGB:\", recall_xgb)\n",
    "print(\"F1 Score_XGB:\", f1_xgb)\n",
    "\n",
    "#Classification Report\n",
    "print('\\n', \"Classification Report:\")\n",
    "print(classification_report(y_test, predicted_xgb))\n",
    "\n",
    "#Time it took to fit the model\n",
    "print('\\n', f\" XGBoost Training Time: {stop_xgb - start_xgb}s\")"
   ]
  },
  {
   "cell_type": "markdown",
   "metadata": {},
   "source": [
    "### Feature Importance"
   ]
  },
  {
   "cell_type": "code",
   "execution_count": 56,
   "metadata": {},
   "outputs": [],
   "source": [
    "#important features for the Random Forest and XGBoost models \n",
    "rf_feat = rf_model.feature_importances_\n",
    "xgb_feat = xgb_model.feature_importances_"
   ]
  },
  {
   "cell_type": "code",
   "execution_count": 57,
   "metadata": {},
   "outputs": [],
   "source": [
    "#making dataframes for the important features for both models\n",
    "imp_feat_rf = pd.DataFrame(index=X.columns,\n",
    "                           data=rf_feat, \n",
    "                           columns=['Importance'])\n",
    "imp_feat_xgb = pd.DataFrame(index=X.columns,\n",
    "                            data=xgb_feat, \n",
    "                            columns=['Importance'])"
   ]
  },
  {
   "cell_type": "code",
   "execution_count": 58,
   "metadata": {},
   "outputs": [
    {
     "name": "stdout",
     "output_type": "stream",
     "text": [
      "Random Forest Importance: \n",
      "            Importance\n",
      "Age          0.299219\n",
      "GenHealth    0.215097\n",
      "HighBP       0.151782\n",
      "HighChol     0.112460\n",
      "Stroke       0.077621\n",
      "Sex          0.056427\n",
      "Diabetes     0.049925\n",
      "Income       0.037468\n",
      "\n",
      " XGBoost Importance: \n",
      "            Importance\n",
      "HighBP       0.385554\n",
      "Age          0.153019\n",
      "HighChol     0.152115\n",
      "GenHealth    0.130819\n",
      "Stroke       0.067331\n",
      "Sex          0.058328\n",
      "Diabetes     0.042573\n",
      "Income       0.010261\n"
     ]
    }
   ],
   "source": [
    "#Sorting the importance of each feature highest to lowest \n",
    "print('Random Forest Importance:', '\\n', imp_feat_rf.sort_values('Importance', ascending=False))\n",
    "print('\\n', 'XGBoost Importance:', '\\n', imp_feat_xgb.sort_values('Importance', ascending=False))"
   ]
  },
  {
   "cell_type": "code",
   "execution_count": 59,
   "metadata": {},
   "outputs": [
    {
     "data": {
      "image/png": "[encoded data removed]",
      "text/plain": [
       "<Figure size 1000x600 with 1 Axes>"
      ]
     },
     "metadata": {},
     "output_type": "display_data"
    },
    {
     "data": {
      "image/png": "[encoded data removed]",
      "text/plain": [
       "<Figure size 1000x600 with 1 Axes>"
      ]
     },
     "metadata": {},
     "output_type": "display_data"
    }
   ],
   "source": [
    "#Plotting the feature importance for random forest, x=feature, y=importance\n",
    "plt.figure(figsize=(10,6),dpi=100)\n",
    "sns.barplot(data=imp_feat_rf.sort_values('Importance'),\n",
    "            x=imp_feat_rf.sort_values('Importance').index,\n",
    "            y='Importance')\n",
    "plt.title('Feature Importance for Random Forest Classifier')\n",
    "plt.xlabel('Feature')\n",
    "plt.ylabel('Importance') \n",
    "plt.xticks(rotation=90)\n",
    "plt.show()\n",
    "\n",
    "#Plotting the feautre importance for XGBoost, x=feature, y=importance\n",
    "plt.figure(figsize=(10,6),dpi=100)\n",
    "sns.barplot(data=imp_feat_xgb.sort_values('Importance'),\n",
    "            x=imp_feat_xgb.sort_values('Importance').index,\n",
    "            y='Importance',\n",
    "            color='orange')\n",
    "plt.title('Feature Importance for XGBoost Classifier')\n",
    "plt.xlabel('Feature')\n",
    "plt.ylabel('Importance') \n",
    "plt.xticks(rotation=90)\n",
    "plt.show()"
   ]
  },
  {
   "cell_type": "markdown",
   "metadata": {},
   "source": [
    "The Feature importance for both random forests and XGBoost were quite similar, with the top 4 and bottom 4 being the same across both models. High BP, General Health, and Age and High Cholestrol seem to be the most important factors in classification of heart disease. Diabetes, Stroke and Sex also play a role to some degree but not as much as the aforementioned features. Income seems to have least affect on determining and classifying heart disease.\n",
    "\n",
    "In a clinical setting, with some form of health expert or researcher surveying patients or individuals, the most most important features to focus on the in the dataset would be Age, followed closely by High Blood Pressure and High Cholesterol. General health should also have a significant impact in screening. Sex, previous history of stroke and diabetes should also be important factors to consider. Income, in our opinion is not as important as the other features selected. \n"
   ]
  },
  {
   "cell_type": "markdown",
   "metadata": {},
   "source": [
    "### Model Comparisons"
   ]
  },
  {
   "cell_type": "code",
   "execution_count": 64,
   "metadata": {},
   "outputs": [
    {
     "name": "stdout",
     "output_type": "stream",
     "text": [
      "Model                        Accuracy    Precision    Recall    F1 Score  Fit Time\n",
      "-------------------------  ----------  -----------  --------  ----------  ---------------------\n",
      "Logistic Regression          0.792116     0.278715  0.673389    0.394251  {0.1411592960357666}\n",
      "K-Nearest Neighbors          0.787844     0.269035  0.647523    0.380131  {0.08133554458618164}\n",
      "Support Vector Classifier    0.780401     0.27049   0.698816    0.390017  {40.5010507106781}\n",
      "Random Forest Classifier     0.7841       0.275021  0.702324    0.395263  {7.285680770874023}\n",
      "XGBoost                      0.778947     0.271376  0.712407    0.393034  {0.10937857627868652}\n"
     ]
    }
   ],
   "source": [
    "#Table comparing the various models and their metrics\n",
    "from tabulate import tabulate\n",
    "model_comparison = [['Model', 'Accuracy', 'Precision', 'Recall', 'F1 Score', 'Fit Time'], \n",
    "         ['Logistic Regression', accuracy_logr, precision_logr, recall_logr, f1_logr, {stop_logr - start_logr}], \n",
    "         ['K-Nearest Neighbors', accuracy_knn, precision_knn, recall_knn, f1_knn, {stop_knn - start_knn}], \n",
    "         ['Support Vector Classifier', accuracy_svm, precision_svm, recall_svm, f1_svm, {stop_svm - start_svm}],\n",
    "         ['Random Forest Classifier', accuracy_rf, precision_rf, recall_rf, f1_rf, {stop_rf - start_rf}],\n",
    "         ['XGBoost', accuracy_xgb, precision_xgb, recall_xgb, f1_xgb, {stop_xgb - start_xgb}]]\n",
    "print(tabulate(model_comparison, headers='firstrow'))"
   ]
  },
  {
   "cell_type": "markdown",
   "metadata": {},
   "source": [
    "Almost all of the models were very similar in performance metrics, excluding fit times which differed between the various algorithms. The highest accuracy was logisitic regression, with the lowest being XGBoost. Both logisitic regression and XGBoost however had almost identical f1-scores, with logistic regression being slightly better. However, the recall for logistic regression was lower than XGBoost, and since we are dealing with healthcare data where the recall is an important metric, the XGBoost is preferred compared to logistic regression. The fit-times were also different, with XGBoost performing quicker than logistic regression.\n",
    "\n",
    "In terms of fit time, SVM was the worst performing model with extremely long fit times. This is most likely due to SVM being computationaly complex and the dataset being large, even after undersampling. The quickest model was K-Nearest neighbors, but it also had the lowest f1- score of all the models, and the only f1-score less than 0.39. Random forest classifier was the second longest fit time, but no where near as long as SVM. It also happened to have the best f1-score out of all the models, and average accuracy at 78.41%. \n",
    "\n",
    "Overall, taking into account the accuracy, the f1-score, the trade off between precision/recall (recall is slightly more important for this specific dataset), and the fit times. The preferred model would be XGBoost. It was the second quickest model to fit at 0.11s, and had a high f1 score at 0.393. The recall was also the highest of all the models at 0.71. The accuracy, despite being the lowest was still good at 77.9%. However, if model fit times are not a problem and the infrastructure to run complex algorithms is avaiable, than the preferred model would have to be random forest classifier, with high recall, f1-score, and accuracy.  "
   ]
  },
  {
   "cell_type": "markdown",
   "metadata": {},
   "source": [
    "### Conclusion"
   ]
  },
  {
   "cell_type": "markdown",
   "metadata": {},
   "source": [
    "In conclusion, in the technical aspect, the preferred model for this specific data and problem would have to XGBoost. However, if the fit time is not a large problem, than random forest classifier would be preffered as it does perform slightly better than XGBoost overall.\n",
    "\n",
    "In the clinical aspect, the most important features and concerns that healthcare experts should be looking out for in patients regarding heart disease are: Age of the patient (the older the more at risk), whether they have high blood pressure or cholesterol, and whether their general health is good or not. Sex and previous history of stroke and diabetes may also be important factors to consider. "
   ]
  }
 ],
 "metadata": {
  "kernelspec": {
   "display_name": "Python 3",
   "language": "python",
   "name": "python3"
  },
  "language_info": {
   "codemirror_mode": {
    "name": "ipython",
    "version": 3
   },
   "file_extension": ".py",
   "mimetype": "text/x-python",
   "name": "python",
   "nbconvert_exporter": "python",
   "pygments_lexer": "ipython3",
   "version": "3.11.2"
  }
 },
 "nbformat": 4,
 "nbformat_minor": 2
}
